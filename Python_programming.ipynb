{
  "nbformat": 4,
  "nbformat_minor": 0,
  "metadata": {
    "colab": {
      "provenance": [],
      "authorship_tag": "ABX9TyOCYs1wOg6P9OAUy2vnCNhy",
      "include_colab_link": true
    },
    "kernelspec": {
      "name": "python3",
      "display_name": "Python 3"
    },
    "language_info": {
      "name": "python"
    }
  },
  "cells": [
    {
      "cell_type": "markdown",
      "metadata": {
        "id": "view-in-github",
        "colab_type": "text"
      },
      "source": [
        "<a href=\"https://colab.research.google.com/github/arnoldkiirya1/Business_Intelligence/blob/main/Python_programming.ipynb\" target=\"_parent\"><img src=\"https://colab.research.google.com/assets/colab-badge.svg\" alt=\"Open In Colab\"/></a>"
      ]
    },
    {
      "cell_type": "code",
      "execution_count": null,
      "metadata": {
        "colab": {
          "base_uri": "https://localhost:8080/"
        },
        "id": "WBUIU91x3TLy",
        "outputId": "eb027133-b595-46d1-f2aa-8f235198468a"
      },
      "outputs": [
        {
          "output_type": "stream",
          "name": "stdout",
          "text": [
            "Hello world!\n"
          ]
        }
      ],
      "source": [
        "#printing hello world\n",
        "print(\"Hello world!\")"
      ]
    },
    {
      "cell_type": "code",
      "source": [
        "#printing hello world\n",
        "a = \"Hello World!\"\n",
        "print(a)"
      ],
      "metadata": {
        "colab": {
          "base_uri": "https://localhost:8080/"
        },
        "id": "gqnoCq_r4ue7",
        "outputId": "1e33abd0-4860-4ef1-b90f-587d724cf8fd"
      },
      "execution_count": null,
      "outputs": [
        {
          "output_type": "stream",
          "name": "stdout",
          "text": [
            "Hello World!\n"
          ]
        }
      ]
    },
    {
      "cell_type": "code",
      "source": [
        "#Ask user to input their name\n",
        "name = input(\"Enter your Full name\")\n",
        "print(name)\n"
      ],
      "metadata": {
        "colab": {
          "base_uri": "https://localhost:8080/"
        },
        "id": "dR0ia30M5Ls8",
        "outputId": "49221354-7d98-4a53-d61a-189c55ceaf87"
      },
      "execution_count": null,
      "outputs": [
        {
          "output_type": "stream",
          "name": "stdout",
          "text": [
            "Enter your Full nameKiirya Arnold\n",
            "Kiirya Arnold\n"
          ]
        }
      ]
    },
    {
      "cell_type": "code",
      "source": [
        "x = input(\"Enter a number\")\n",
        "print(type(x))\n",
        "\n",
        "x = eval(input(\"Enter a number\")) # eval() function converts string to int\n",
        "print(type(x))"
      ],
      "metadata": {
        "colab": {
          "base_uri": "https://localhost:8080/"
        },
        "id": "V570O9X-KZa1",
        "outputId": "daeab209-bdca-419e-a23e-b7ba818bf20a"
      },
      "execution_count": null,
      "outputs": [
        {
          "output_type": "stream",
          "name": "stdout",
          "text": [
            "Enter a number5\n",
            "<class 'str'>\n",
            "Enter a number5\n",
            "<class 'int'>\n"
          ]
        }
      ]
    },
    {
      "cell_type": "code",
      "source": [
        "# Modifying Strings\n",
        "a = \"Hello World!\"\n",
        "print(a)\n",
        "print(a.upper()) # methods: method_name()\n",
        "b = \"HELLO WORLD!\"\n",
        "print(b.lower())"
      ],
      "metadata": {
        "colab": {
          "base_uri": "https://localhost:8080/"
        },
        "id": "oqgJgXgr525Q",
        "outputId": "2b633cb4-0610-4884-a691-6022bd2252a3"
      },
      "execution_count": null,
      "outputs": [
        {
          "output_type": "stream",
          "name": "stdout",
          "text": [
            "Hello World!\n",
            "HELLO WORLD!\n",
            "hello world!\n"
          ]
        }
      ]
    },
    {
      "cell_type": "code",
      "source": [
        "# Removing Whitespaces\n",
        "a = \"Hello, World! \"\n",
        "print(a)\n",
        "#we use a method called: strip()\n",
        "print(a.strip())"
      ],
      "metadata": {
        "colab": {
          "base_uri": "https://localhost:8080/"
        },
        "id": "8mlZUExq67hn",
        "outputId": "7d79751c-877b-4736-dfb3-72b4037776bf"
      },
      "execution_count": null,
      "outputs": [
        {
          "output_type": "stream",
          "name": "stdout",
          "text": [
            "Hello, World! \n",
            "Hello, World!\n"
          ]
        }
      ]
    },
    {
      "cell_type": "code",
      "source": [
        "#Replace Strings\n",
        "a = \"Hello World!\"\n",
        "#we use replace() method\n",
        "print(a.replace(\"H\",\"Y\"))"
      ],
      "metadata": {
        "colab": {
          "base_uri": "https://localhost:8080/"
        },
        "id": "c7vM6xOx7-3m",
        "outputId": "26938cac-40d9-4f7c-c5df-c65e256a2e45"
      },
      "execution_count": null,
      "outputs": [
        {
          "output_type": "stream",
          "name": "stdout",
          "text": [
            "Yello World!\n"
          ]
        }
      ]
    },
    {
      "cell_type": "code",
      "source": [
        "# Split Strings\n",
        "a = \"Hello World\"\n",
        "print(a.split(\" \"))\n",
        "b = \"Hello, World\"\n",
        "print(b.split(\",\"))\n",
        "\n"
      ],
      "metadata": {
        "colab": {
          "base_uri": "https://localhost:8080/"
        },
        "id": "lFr7QaP68azX",
        "outputId": "b7d339cc-2d9b-427d-ad26-42865ecc12ad"
      },
      "execution_count": null,
      "outputs": [
        {
          "output_type": "stream",
          "name": "stdout",
          "text": [
            "['Hello', 'World']\n",
            "['Hello', ' World']\n"
          ]
        }
      ]
    },
    {
      "cell_type": "code",
      "source": [
        "#String Concatenation\n",
        "first_name = input(\"Enter your first name\")\n",
        "last_name = input(\"Enter your last name \")\n",
        "\n",
        "full_name = first_name + last_name\n",
        "print(full_name)\n",
        "\n",
        "#add space\n",
        "full_name = first_name + \" \" + last_name\n",
        "print(full_name)\n"
      ],
      "metadata": {
        "colab": {
          "base_uri": "https://localhost:8080/"
        },
        "id": "FQ4_LXZQ9QyU",
        "outputId": "b9092f96-c39b-40fd-988d-1bf4ab8e67be"
      },
      "execution_count": null,
      "outputs": [
        {
          "output_type": "stream",
          "name": "stdout",
          "text": [
            "Enter your first nameKiirya\n",
            "Enter your last name Arnold\n",
            "KiiryaArnold\n",
            "Kiirya Arnold\n"
          ]
        }
      ]
    },
    {
      "cell_type": "code",
      "source": [
        "# Formatting Strings using MOMO\n",
        "balance = 25000\n",
        "message = \"Dear Arnold, your account balance is {} /=\"\n",
        "print(message.format(balance))"
      ],
      "metadata": {
        "colab": {
          "base_uri": "https://localhost:8080/"
        },
        "id": "81jwyd9H-jHj",
        "outputId": "97e71407-94cc-4d18-955b-48ab1d848133"
      },
      "execution_count": null,
      "outputs": [
        {
          "output_type": "stream",
          "name": "stdout",
          "text": [
            "Dear Arnold, your account balance is 25000 /=\n"
          ]
        }
      ]
    },
    {
      "cell_type": "code",
      "source": [
        "# multiple argument\n",
        "qty = 3\n",
        "item_id = \"JUMIA001\"\n",
        "price = 30000\n",
        "message = \"I want {} pieces of item with ID: {} for {} /=\"\n",
        "print(message.format(qty,item_id,price))"
      ],
      "metadata": {
        "colab": {
          "base_uri": "https://localhost:8080/"
        },
        "id": "sKsUPY4s_bKZ",
        "outputId": "648250b9-54c6-496b-f9ab-1cb94b99b42f"
      },
      "execution_count": null,
      "outputs": [
        {
          "output_type": "stream",
          "name": "stdout",
          "text": [
            "I want 3 pieces of item with ID: JUMIA001 for 30000 /=\n"
          ]
        }
      ]
    },
    {
      "cell_type": "code",
      "source": [
        "# multiple argument\n",
        "qty = 3\n",
        "item_id = \"JUMIA001\"\n",
        "price = 30000\n",
        "message = \"I want {2} pieces of item with ID: {0} for {1} /=\" # edit the message to make meaning\n",
        "print(message.format(qty,item_id,price)) #(0,1,2)"
      ],
      "metadata": {
        "outputId": "fb1e5a09-f458-45f1-b32f-85d961e237d8",
        "colab": {
          "base_uri": "https://localhost:8080/"
        },
        "id": "URZXQPkWAlMk"
      },
      "execution_count": null,
      "outputs": [
        {
          "output_type": "stream",
          "name": "stdout",
          "text": [
            "I want 30000 pieces of item with ID: 3 for JUMIA001 /=\n"
          ]
        }
      ]
    },
    {
      "cell_type": "code",
      "source": [
        "# Lists, used to store multiple items into a single variable.\n",
        "mylist = [\"apples\", \"bananas\", \"mangoes\"] #[0,1,2]\n",
        "print(mylist)\n",
        "print(mylist[0]) # Extraction of items in the list\n",
        "print(len(mylist)) # len() method used to get lenght of the List\n",
        "\n",
        "mylist[1] = \"Berries\" # Changng items in the list\n",
        "print(mylist)\n",
        "\n",
        "mylist[0:2] = [\"Bananas\", \"apples\"] # Chaning Items in the range 0 and 2 in the list\n",
        "print(mylist)"
      ],
      "metadata": {
        "colab": {
          "base_uri": "https://localhost:8080/"
        },
        "id": "FEbkF2u0BBuQ",
        "outputId": "3163ca9f-ed9a-4171-adc0-f607d343b350"
      },
      "execution_count": null,
      "outputs": [
        {
          "output_type": "stream",
          "name": "stdout",
          "text": [
            "['apples', 'bananas', 'mangoes']\n",
            "apples\n",
            "3\n",
            "['apples', 'Berries', 'mangoes']\n",
            "['Bananas', 'apples', 'mangoes']\n"
          ]
        }
      ]
    },
    {
      "cell_type": "code",
      "source": [
        "#Adding new Items into the list\n",
        "numbers = ['Arnold']\n",
        "print(numbers)\n",
        "numbers.append('Kiirya') # seperate line, without declaration of new variable\n",
        "print(numbers) \n"
      ],
      "metadata": {
        "colab": {
          "base_uri": "https://localhost:8080/"
        },
        "id": "uNCNBRPSD1ku",
        "outputId": "30a6b6de-db1c-4853-a3a4-4f7eabeaa4b7"
      },
      "execution_count": null,
      "outputs": [
        {
          "output_type": "stream",
          "name": "stdout",
          "text": [
            "['Arnold']\n",
            "['Arnold', 'Kiirya']\n"
          ]
        }
      ]
    },
    {
      "cell_type": "code",
      "source": [
        "# Removing Items into a list\n",
        "mylistss = [\"apples\", \"bananas\", \"mangoes\"]\n",
        "mylistss.remove(\"bananas\") # seperate line, without declaration of new variable\n",
        "print(mylistss)\n"
      ],
      "metadata": {
        "colab": {
          "base_uri": "https://localhost:8080/"
        },
        "id": "yr4JqOt_GC1r",
        "outputId": "1dc8ebab-762e-41cc-e2ee-f56bd727d937"
      },
      "execution_count": null,
      "outputs": [
        {
          "output_type": "stream",
          "name": "stdout",
          "text": [
            "['apples', 'mangoes']\n"
          ]
        }
      ]
    },
    {
      "cell_type": "code",
      "source": [
        "# Decision Structures\n",
        "\n",
        "t1, t2, t3 = eval(input(\"Enter the marks\"))\n",
        "print(t1)\n",
        "print(t2)\n",
        "print(t3)\n",
        "\n",
        "average = (t1 + t2 + t3)/3\n",
        "print(average)\n",
        "\n",
        "if average < 6 : # first condition\n",
        "  print(\"Average is greater than or equal to 6\")\n",
        "elif average > 5 : # if the condition above is false\n",
        "  print(\"Average is greater than 6\")\n",
        "else : # if all above is false\n",
        "   print(\"Average is less than 6\")\n",
        "\n"
      ],
      "metadata": {
        "colab": {
          "base_uri": "https://localhost:8080/"
        },
        "id": "o2aaevsuJu0X",
        "outputId": "3a4693f5-fd18-4edc-a4d3-8b9045b19353"
      },
      "execution_count": null,
      "outputs": [
        {
          "output_type": "stream",
          "name": "stdout",
          "text": [
            "Enter the marks5, 6, 7\n",
            "5\n",
            "6\n",
            "7\n",
            "6.0\n",
            "Average is greater than 6\n"
          ]
        }
      ]
    },
    {
      "cell_type": "code",
      "source": [
        "#Differences betwen Lists, Sets, tuples and dictionaries\n",
        "\n",
        "#Make research about this"
      ],
      "metadata": {
        "id": "oVvHWMk3QmaA"
      },
      "execution_count": null,
      "outputs": []
    },
    {
      "cell_type": "code",
      "source": [
        "# Login Program uisng Python using username and password, you promt the user to enter their details. You display a message upon every trial (Login failed, Login successful, Wrong Password)\n",
        "\n"
      ],
      "metadata": {
        "id": "pZrl06P1KU-f"
      },
      "execution_count": null,
      "outputs": []
    },
    {
      "cell_type": "code",
      "source": [
        "#Loops\n",
        "# Types two types: 1. While loop 2. For Loop"
      ],
      "metadata": {
        "id": "982sP_5wJyI4"
      },
      "execution_count": null,
      "outputs": []
    },
    {
      "cell_type": "code",
      "source": [
        "#While Loop\n",
        "#print i as long as i less than 6\n",
        "i = 1\n",
        "while i < 6:\n",
        "  print(i)\n",
        "  i = i + 1  # same as : i++"
      ],
      "metadata": {
        "colab": {
          "base_uri": "https://localhost:8080/"
        },
        "id": "mN0jfVh4KPce",
        "outputId": "c925f2f4-74d1-414d-e364-0d4e1f5d89d3"
      },
      "execution_count": null,
      "outputs": [
        {
          "output_type": "stream",
          "name": "stdout",
          "text": [
            "1\n",
            "2\n",
            "3\n",
            "4\n",
            "5\n"
          ]
        }
      ]
    },
    {
      "cell_type": "code",
      "source": [
        "# Using the break statement in the while loop\n",
        "i = 1\n",
        "while i < 6:\n",
        "  print(i)\n",
        "  if i == 3:\n",
        "    break\n",
        "  i = i + 1\n"
      ],
      "metadata": {
        "colab": {
          "base_uri": "https://localhost:8080/"
        },
        "id": "oUOSANb6MDNc",
        "outputId": "f72a5220-78f2-48a2-e609-974de3c2dd41"
      },
      "execution_count": null,
      "outputs": [
        {
          "output_type": "stream",
          "name": "stdout",
          "text": [
            "1\n",
            "2\n",
            "3\n"
          ]
        }
      ]
    },
    {
      "cell_type": "code",
      "source": [
        "# Using the continue statement in the while loop\n",
        "i = 0 \n",
        "while i < 6:\n",
        "   i = i + 1\n",
        "   if i == 3: # Jumping from 2 to 4\n",
        "     continue\n",
        "   print(i)\n"
      ],
      "metadata": {
        "colab": {
          "base_uri": "https://localhost:8080/"
        },
        "id": "d6pNl-ChM1Hn",
        "outputId": "06904879-287a-4c07-d324-dca9f14f7302"
      },
      "execution_count": null,
      "outputs": [
        {
          "output_type": "stream",
          "name": "stdout",
          "text": [
            "2\n",
            "4\n",
            "5\n",
            "6\n"
          ]
        }
      ]
    },
    {
      "cell_type": "code",
      "source": [
        "# Using the else Statement\n",
        "i = 1 \n",
        "while i < 6:\n",
        "  print(i)\n",
        "  i = i + 1\n",
        "else:\n",
        "  print(\"i is nolonger less than 6\")"
      ],
      "metadata": {
        "colab": {
          "base_uri": "https://localhost:8080/"
        },
        "id": "tEyY1U0lOH8S",
        "outputId": "90b7aab0-077f-49bf-bc22-2aadc327277f"
      },
      "execution_count": null,
      "outputs": [
        {
          "output_type": "stream",
          "name": "stdout",
          "text": [
            "1\n",
            "2\n",
            "3\n",
            "4\n",
            "5\n",
            "i is nolonger less than 6\n"
          ]
        }
      ]
    },
    {
      "cell_type": "code",
      "source": [
        "# For Loop\n",
        "mylists = [\"apples\", \"bananas\", \"mangoes\"] # ctrl + v pasting\n",
        "for x in mylists:\n",
        "  print(x)\n"
      ],
      "metadata": {
        "colab": {
          "base_uri": "https://localhost:8080/"
        },
        "id": "ZujvI3jHPVpq",
        "outputId": "36f1f486-61a8-494c-9853-324de0bd1cb4"
      },
      "execution_count": null,
      "outputs": [
        {
          "output_type": "stream",
          "name": "stdout",
          "text": [
            "apples\n",
            "bananas\n",
            "mangoes\n"
          ]
        }
      ]
    },
    {
      "cell_type": "code",
      "source": [
        "# Using the break statement in For Loop\n",
        "mylists = [\"apples\", \"bananas\", \"mangoes\"] # ctrl + v pasting\n",
        "for x in mylists:\n",
        "  print(x)\n",
        "  if x == \"bananas\":\n",
        "    break\n"
      ],
      "metadata": {
        "colab": {
          "base_uri": "https://localhost:8080/"
        },
        "id": "1zan5tR9Q3K2",
        "outputId": "f0923953-6729-4f27-e49e-013fc04c9df9"
      },
      "execution_count": null,
      "outputs": [
        {
          "output_type": "stream",
          "name": "stdout",
          "text": [
            "apples\n"
          ]
        }
      ]
    },
    {
      "cell_type": "code",
      "source": [
        "# Using the continue statement in For Loop\n",
        "mylists = [\"apples\", \"bananas\", \"mangoes\"]\n",
        "for x in mylists:\n",
        "  \n",
        "  if x == \"bananas\":\n",
        "    continue\n",
        "  print(x)\n"
      ],
      "metadata": {
        "colab": {
          "base_uri": "https://localhost:8080/"
        },
        "id": "yuAuAewKR7Zm",
        "outputId": "93105554-b0b5-4f93-bd94-93151fec1b7f"
      },
      "execution_count": null,
      "outputs": [
        {
          "output_type": "stream",
          "name": "stdout",
          "text": [
            "apples\n",
            "mangoes\n"
          ]
        }
      ]
    },
    {
      "cell_type": "code",
      "source": [
        "# using the range function in the for loop\n",
        "for x in range(6):\n",
        "  print(x)\n",
        "\n"
      ],
      "metadata": {
        "colab": {
          "base_uri": "https://localhost:8080/"
        },
        "id": "xgvGVdwuTHjd",
        "outputId": "d4fb0879-b9e0-43d9-e53e-1b939acdb10f"
      },
      "execution_count": null,
      "outputs": [
        {
          "output_type": "stream",
          "name": "stdout",
          "text": [
            "0\n",
            "1\n",
            "2\n",
            "3\n",
            "4\n",
            "5\n"
          ]
        }
      ]
    },
    {
      "cell_type": "code",
      "source": [
        "for y in range(2, 6):\n",
        "  print(y)"
      ],
      "metadata": {
        "colab": {
          "base_uri": "https://localhost:8080/"
        },
        "id": "36heTfc9To2c",
        "outputId": "7839b25e-ca45-483b-9bac-3d225d2c1943"
      },
      "execution_count": null,
      "outputs": [
        {
          "output_type": "stream",
          "name": "stdout",
          "text": [
            "2\n",
            "3\n",
            "4\n",
            "5\n"
          ]
        }
      ]
    },
    {
      "cell_type": "code",
      "source": [
        "for x in range(1,11):\n",
        "    print(x)"
      ],
      "metadata": {
        "colab": {
          "base_uri": "https://localhost:8080/"
        },
        "id": "Q_7LMt14Tx7k",
        "outputId": "91e6eef7-1152-4d9d-9596-8490731d37ce"
      },
      "execution_count": null,
      "outputs": [
        {
          "output_type": "stream",
          "name": "stdout",
          "text": [
            "1\n",
            "2\n",
            "3\n",
            "4\n",
            "5\n",
            "6\n",
            "7\n",
            "8\n",
            "9\n",
            "10\n"
          ]
        }
      ]
    },
    {
      "cell_type": "code",
      "source": [
        "for x in range(1,11):\n",
        "    if x == 2:\n",
        "      continue\n",
        "    elif x == 3:\n",
        "      continue\n",
        "    elif x == 5:\n",
        "      continue\n",
        "    elif x == 6:\n",
        "      continue\n",
        "    elif x == 8:\n",
        "      continue\n",
        "    elif x == 9:\n",
        "      continue\n",
        "    print(x)"
      ],
      "metadata": {
        "colab": {
          "base_uri": "https://localhost:8080/"
        },
        "id": "u33DgBZwUavE",
        "outputId": "983eb549-592d-4465-c25f-f29e953027a1"
      },
      "execution_count": null,
      "outputs": [
        {
          "output_type": "stream",
          "name": "stdout",
          "text": [
            "1\n",
            "4\n",
            "7\n",
            "10\n"
          ]
        }
      ]
    },
    {
      "cell_type": "code",
      "source": [
        "for x in range (1, 11, 3):\n",
        "  print(x)"
      ],
      "metadata": {
        "colab": {
          "base_uri": "https://localhost:8080/"
        },
        "id": "VaHLmH3bV4ir",
        "outputId": "58cf52fd-8b7e-484b-b6c2-aedbde1751f6"
      },
      "execution_count": null,
      "outputs": [
        {
          "output_type": "stream",
          "name": "stdout",
          "text": [
            "1\n",
            "4\n",
            "7\n",
            "10\n"
          ]
        }
      ]
    },
    {
      "cell_type": "code",
      "source": [
        "# Using the Else in the for loop\n",
        "for x in range (1, 11, 3):\n",
        "  print(x)\n",
        "else:\n",
        "  print(\"Finally finished Printing the loop\")"
      ],
      "metadata": {
        "colab": {
          "base_uri": "https://localhost:8080/"
        },
        "id": "qF9bd5LdWWLg",
        "outputId": "def6f1a4-d53a-4836-a5a7-d64450c387f1"
      },
      "execution_count": null,
      "outputs": [
        {
          "output_type": "stream",
          "name": "stdout",
          "text": [
            "1\n",
            "4\n",
            "7\n",
            "10\n",
            "Finally finished Printing the loop\n"
          ]
        }
      ]
    },
    {
      "cell_type": "code",
      "source": [
        "# Pass Statement in the for loop\n",
        "for x in range(1,11):\n",
        "  pass # Helps making your loop empty\n"
      ],
      "metadata": {
        "id": "xqEUB-5aWp84"
      },
      "execution_count": null,
      "outputs": []
    },
    {
      "cell_type": "code",
      "source": [
        "#Python Functions \n",
        "#Functions are lines of code which only run when called."
      ],
      "metadata": {
        "id": "QSi7Q14eXQrf"
      },
      "execution_count": null,
      "outputs": []
    },
    {
      "cell_type": "code",
      "source": [
        "#Creating a funtion and calling it\n",
        "def my_function_name(): # creating\n",
        "  print(\"This is my first function\")\n",
        "\n",
        "my_function_name() # calling\n"
      ],
      "metadata": {
        "colab": {
          "base_uri": "https://localhost:8080/"
        },
        "id": "d1IIVY9bXo22",
        "outputId": "52267ba0-99a3-4be2-b827-622a6753a013"
      },
      "execution_count": null,
      "outputs": [
        {
          "output_type": "stream",
          "name": "stdout",
          "text": [
            "This is my first function\n"
          ]
        }
      ]
    },
    {
      "cell_type": "code",
      "source": [
        "def average(t1, t2, t3):\n",
        "  average = (t1 + t2 + t3)/3\n",
        "  return average\n",
        "\n",
        "x = average(2,3,4)\n",
        "y = average(5,6,7)\n",
        "\n",
        "print(\"Average of 2,3 & 4 is\", x)\n",
        "print(\"Average of 5,6 & 7 is\", y)"
      ],
      "metadata": {
        "colab": {
          "base_uri": "https://localhost:8080/"
        },
        "id": "wTstQAj3ZYvN",
        "outputId": "d6632291-5f31-4800-b2a4-5c10185ecd93"
      },
      "execution_count": null,
      "outputs": [
        {
          "output_type": "stream",
          "name": "stdout",
          "text": [
            "Average of 2,3 & 4 is 3.0\n",
            "Average of 5,6 & 7 is 6.0\n"
          ]
        }
      ]
    },
    {
      "cell_type": "code",
      "source": [
        "def name(fname):\n",
        "  print(\"Your name is:\", fname)\n",
        "\n",
        "name(\"Annet\")"
      ],
      "metadata": {
        "colab": {
          "base_uri": "https://localhost:8080/"
        },
        "id": "zhCQaR1jaY7F",
        "outputId": "15b57493-11f7-4867-c872-d34cb67d2d79"
      },
      "execution_count": null,
      "outputs": [
        {
          "output_type": "stream",
          "name": "stdout",
          "text": [
            "Your name is: Annet\n"
          ]
        }
      ]
    },
    {
      "cell_type": "code",
      "source": [
        "# Using functions, loops and list\n",
        "def fruits(items):\n",
        "  for x in items:\n",
        "    print(x)\n",
        "\n",
        "mylists = [\"apples\", \"bananas\", \"mangoes\"]\n",
        "fruits(mylists)\n"
      ],
      "metadata": {
        "colab": {
          "base_uri": "https://localhost:8080/"
        },
        "id": "15H0KQ-bbFF1",
        "outputId": "bb67f129-04c9-48a0-f339-3af4c44d13b4"
      },
      "execution_count": null,
      "outputs": [
        {
          "output_type": "stream",
          "name": "stdout",
          "text": [
            "apples\n",
            "bananas\n",
            "mangoes\n"
          ]
        }
      ]
    },
    {
      "cell_type": "code",
      "source": [
        "def fruits(items):\n",
        "  pass"
      ],
      "metadata": {
        "id": "5PM3hKEpcGEq"
      },
      "execution_count": null,
      "outputs": []
    },
    {
      "cell_type": "code",
      "source": [
        "# Program to calculate the area of various shapes\n",
        "from math import *\n",
        "# Calculates the area of a shape\n",
        "def calculate_area(shape):\n",
        "    area = 0\n",
        "    # Circle\n",
        "    if shape == 'C':\n",
        "        radius = input(\"Enter the radius: \")\n",
        "        area = calculate_circle_area(float(radius))\n",
        "    elif shape == 'S':\n",
        "        side = input(\"Enter the side: \")\n",
        "        area = calculate_square_area(float(side))\n",
        "    elif shape == 'R':\n",
        "        length = input(\"Enter the length: \")\n",
        "        width = input(\"Enter the width: \")        \n",
        "        area = calculate_rectangle_area(float(length), float(width))\n",
        "    else:\n",
        "        print(\"Invalid selection. Choose 'C', 'S' or 'R'.\")\n",
        "\n",
        "    return area\n",
        "\n",
        "# Calculates the area of a square\n",
        "def calculate_square_area(side: float): #  the parameter side is a float number\n",
        "    area = side * side\n",
        "    return area\n",
        "\n",
        "# Calculates the area of a rectangle with given length and width\n",
        "def calculate_rectangle_area(length: float, width: float): #  the length and width side is a float number\n",
        "    area = length * width\n",
        "    return area\n",
        "\n",
        "# Calculates the area of a circle\n",
        "def calculate_circle_area(radius: float): #  the parameter radius is a float number\n",
        "    \n",
        "    area = pi * radius ** 2\n",
        "    return area\n",
        "\n",
        "# Returns the name of the shape matching the selection\n",
        "def get_shape_name(tag):\n",
        "    shape = \"Unknown\"\n",
        "    if tag == 'C':\n",
        "        shape = \"circle\"        \n",
        "    elif tag == 'S':\n",
        "        shape = \"square\"\n",
        "    elif tag == 'R':\n",
        "        shape = \"rectangle\"\n",
        "    return shape\n",
        "\n",
        "# Testing\n",
        "print(\"\"\"\n",
        "---------------\n",
        "Area calculator\n",
        "---------------\n",
        "Select a shape:\n",
        "\"\"\")\n",
        "\n",
        "# Prompt the user to select a shape and wait\n",
        "selection = input(\"\"\"\\t'S' - Square\n",
        "\\t'R' - Rectangle\n",
        "\\t'C' - Circle\n",
        "\"\"\")\n",
        "\n",
        "area = -1\n",
        "# Square\n",
        "if selection == 'S':\n",
        "    side = input(\"Enter the side: \")\n",
        "    area = calculate_square_area(float(side))\n",
        "# Rectangle\n",
        "elif selection == 'R':\n",
        "    length = input(\"Enter the length: \")\n",
        "    width = input(\"Enter the width: \")        \n",
        "    area = calculate_rectangle_area(float(length), float(width))\n",
        "# Circle    \n",
        "elif selection == 'C':\n",
        "    radius = input(\"Enter the radius: \")\n",
        "    area = calculate_circle_area(float(radius))\n",
        "else:\n",
        "    print(\"Invalid selection. Choose 'S', 'R' or 'C'.\")\n",
        "\n",
        "print(f\"The area is {area}\") # f strings\n"
      ],
      "metadata": {
        "id": "2XEBfz8Hc0Ei"
      },
      "execution_count": null,
      "outputs": []
    },
    {
      "cell_type": "code",
      "source": [
        "# Object Oriented Programming (OOP)\n",
        "# Its a programming model that organises software design around data, can be objects rathan that functions and logic.\n"
      ],
      "metadata": {
        "id": "yhu79YJMMi6x"
      },
      "execution_count": null,
      "outputs": []
    },
    {
      "cell_type": "code",
      "source": [
        "# Objects and Classes\n",
        "# An object is a collection of data such variables and also containes methods which can be functions.\n",
        "# A class is a blueprint of an object (A prototype)\n"
      ],
      "metadata": {
        "id": "Ed3kkqJgNS6A"
      },
      "execution_count": null,
      "outputs": []
    },
    {
      "cell_type": "code",
      "source": [
        "#creating a python class using keyword : class\n",
        "\n",
        "class Classname:\n",
        " pass\n",
        "\n",
        "#creating object of class\n",
        "objectName = Classname()\n"
      ],
      "metadata": {
        "id": "aQZmCZqrOa6Q"
      },
      "execution_count": null,
      "outputs": []
    },
    {
      "cell_type": "code",
      "source": [
        "class vehicles:\n",
        "  name = \"\"\n",
        "  color= \"\"\n",
        "  seats= \"\"\n",
        "\n",
        "vehicle1 = vehicles() #objectname = classname()\n",
        "\n",
        "#Access Class Attributes using objects ( We use the . notation to access the attributes)\n",
        "vehicle1.name = \"BMW\"\n",
        "vehicle1.color = \"Red\"\n",
        "\n",
        "vehicle2 = vehicles()\n",
        "vehicle2.name = \"Toyata\"\n",
        "vehicle2.color = \"Black\"\n",
        "\n",
        "print(f\"The color of {vehicle1.name} is {vehicle1.color}\")\n",
        "print(f\"The color of {vehicle2.name} is {vehicle2.color}\")\n",
        "\n"
      ],
      "metadata": {
        "id": "jG3F69UaOqK4",
        "outputId": "a4e1d048-0fd9-4c67-b670-6a594fd29b78",
        "colab": {
          "base_uri": "https://localhost:8080/"
        }
      },
      "execution_count": null,
      "outputs": [
        {
          "output_type": "stream",
          "name": "stdout",
          "text": [
            "The color of BMW is Red\n",
            "The color of Toyata is Black\n"
          ]
        }
      ]
    },
    {
      "cell_type": "code",
      "source": [
        "# Python methods ( Functions inside a class)\n",
        "\n",
        "#creating a class\n",
        "class Room:\n",
        "  name =\"\"\n",
        "  length = 0.0\n",
        "  breadth = 0.0\n",
        "  def calculate_area(self):\n",
        "    area = self.length * self.breadth\n",
        "    stream = self.name\n",
        "    print(f\"Area of the {stream} Class Room is {area}\")\n",
        "\n",
        "#create object of Class rooms\n",
        "s1_class = Room()\n",
        "s1_class.name = \"S1 East\"\n",
        "s1_class.length = 30.0\n",
        "s1_class.breadth = 42.5\n",
        "\n",
        "s6_class = Room()\n",
        "s6_class.name = \"S6 PCM\"\n",
        "s6_class.length = 50.0\n",
        "s6_class.breadth = 42.5\n",
        "\n",
        "# Access the methods inside the class\n",
        "s1_class.calculate_area()\n",
        "s6_class.calculate_area()\n"
      ],
      "metadata": {
        "id": "9jbRn3CATTy6",
        "outputId": "769b1243-8563-46e8-a46e-b7a282bfcd7f",
        "colab": {
          "base_uri": "https://localhost:8080/"
        }
      },
      "execution_count": null,
      "outputs": [
        {
          "output_type": "stream",
          "name": "stdout",
          "text": [
            "Area of the S1 East Class Room is 1275.0\n",
            "Area of the S6 PCM Class Room is 2125.0\n"
          ]
        }
      ]
    },
    {
      "cell_type": "code",
      "source": [
        "# Python Constructors to initialize values ( _init_() is the constructor function )\n",
        "\n",
        "class Room:\n",
        "  #constructor function\n",
        "  def __init__(self, name = \"\", length = 0, breadth = 0):\n",
        "    self.name = name\n",
        "    self.length = length\n",
        "    self.breadth = breadth\n",
        "  \n",
        "  def calculate_area(self):\n",
        "    area = self.length * self.breadth\n",
        "    print(f\"Area of the {self.name} Class Room is {area}\")\n",
        "\n",
        "s1_class = Room()\n",
        "s1_class.name = \"S1 East\"\n",
        "s1_class.length = 30\n",
        "s1_class.breadth = 50\n",
        "s1_class.calculate_area()\n"
      ],
      "metadata": {
        "id": "1lqVjmynYLPs",
        "outputId": "482215a0-9547-45c5-ea21-f8932cfc7e80",
        "colab": {
          "base_uri": "https://localhost:8080/"
        }
      },
      "execution_count": null,
      "outputs": [
        {
          "output_type": "stream",
          "name": "stdout",
          "text": [
            "Area of the S1 East Class Room is 1500\n"
          ]
        }
      ]
    },
    {
      "cell_type": "code",
      "source": [
        "class Person:\n",
        "    def __init__(self, name=\"\"):\n",
        "      self.name = name\n",
        "    def say_hi(self):\n",
        "      print(f\"Hello {self.name}\")\n",
        "\n",
        "person1 = Person()\n",
        "person1.name = \"Kiirya Anrold\"\n",
        "person1.say_hi()\n",
        "\n"
      ],
      "metadata": {
        "id": "oXoxHjOXcYvT",
        "outputId": "8efa3803-67ca-4149-a13f-dc99fcd95299",
        "colab": {
          "base_uri": "https://localhost:8080/"
        }
      },
      "execution_count": null,
      "outputs": [
        {
          "output_type": "stream",
          "name": "stdout",
          "text": [
            "Hello Kiirya Anrold\n"
          ]
        }
      ]
    }
  ]
}