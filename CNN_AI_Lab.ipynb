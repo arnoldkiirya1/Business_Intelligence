{
  "nbformat": 4,
  "nbformat_minor": 0,
  "metadata": {
    "colab": {
      "provenance": [],
      "authorship_tag": "ABX9TyPfHhZVGEvm1pKoCMFHTGIw",
      "include_colab_link": true
    },
    "kernelspec": {
      "name": "python3",
      "display_name": "Python 3"
    },
    "language_info": {
      "name": "python"
    }
  },
  "cells": [
    {
      "cell_type": "markdown",
      "metadata": {
        "id": "view-in-github",
        "colab_type": "text"
      },
      "source": [
        "<a href=\"https://colab.research.google.com/github/arnoldkiirya1/Business_Intelligence/blob/main/CNN_AI_Lab.ipynb\" target=\"_parent\"><img src=\"https://colab.research.google.com/assets/colab-badge.svg\" alt=\"Open In Colab\"/></a>"
      ]
    },
    {
      "cell_type": "code",
      "execution_count": null,
      "metadata": {
        "id": "aMs7cgQhKAI5"
      },
      "outputs": [],
      "source": [
        "#Devope a Convolutional Neural Network(CNN) TO Classify images using Tensorflow or keras"
      ]
    },
    {
      "cell_type": "code",
      "source": [
        "#import modules\n",
        "import tensorflow as tf\n",
        "from tensorflow import keras\n",
        "\n",
        "#Defining the CNN Model\n",
        "model = keras.Sequential([\n",
        "    \n",
        "    # Adding the first convolutional layer\n",
        "    keras.layers.Conv2D(filters=32, kernel_size=(3,3), activation='relu', input_shape=(28,28,1)),\n",
        "    \n",
        "    #Add first max pooling layer\n",
        "    keras.layers.MaxPooling2D(pool_size=(2,2)),\n",
        "    \n",
        "    #Add the second convolutional layer\n",
        "     keras.layers.Conv2D(filters=64, kernel_size=(3,3), activation='relu'),\n",
        "\n",
        "    #Add second max pooling layer\n",
        "    keras.layers.MaxPooling2D(pool_size=(2,2)),\n",
        "\n",
        "    #Fatten the output from the convolutional layers\n",
        "    keras.layers.Flatten(),\n",
        "\n",
        "    #get all the layers fully connected with 128 neurons\n",
        "    keras.layers.Dense(units=128, activation= 'relu'),\n",
        "\n",
        "    #Add ouput layer with 10 neurons\n",
        "    keras.layers.Dense(units=10, activation='softmax')\n",
        "\n",
        "\n",
        "    ])\n",
        "\n",
        "# compile the model with categorical crossentropy\n",
        "model.compile(loss='categorical_crossentropy', optimizer='adam', metrics=['accuracy'])\n",
        "\n",
        "#Training the model on MNIST Dataset\n",
        "(train_images, train_labels), (test_images, test_labels) = keras.datasets.mnist.load_data()\n",
        "train_images = train_images.reshape((60000, 28, 28, 1))\n",
        "train_images = train_images.astype('float32') / 225\n",
        "\n",
        "#Testing Images\n",
        "test_images = test_images.reshape((10000, 28, 28, 1)) \n",
        "test_images = test_images.astype('float32') / 225\n",
        "\n",
        "train_labels = keras.utils.to_categorical(train_labels)\n",
        "test_labels = keras.utils.to_categorical(test_labels)\n",
        "model.fit(train_images, train_labels, epochs=5, batch_size=64)\n",
        "\n",
        "\n",
        "#Evaluation for the model on the given dataset\n",
        "test_loss , test_acc = model.evaluate(test_images, test_labels)\n",
        "\n",
        "print('AI Bootcamp CNN Model Test Accuracy:', test_acc)\n",
        "\n",
        "\n",
        "\n",
        "\n"
      ],
      "metadata": {
        "colab": {
          "base_uri": "https://localhost:8080/"
        },
        "id": "_uNGgTGZKTxb",
        "outputId": "ce15b65d-2691-477a-b1f9-05af34c204ff"
      },
      "execution_count": 15,
      "outputs": [
        {
          "output_type": "stream",
          "name": "stdout",
          "text": [
            "Epoch 1/5\n",
            "938/938 [==============================] - 55s 58ms/step - loss: 0.1522 - accuracy: 0.9547\n",
            "Epoch 2/5\n",
            "938/938 [==============================] - 53s 57ms/step - loss: 0.0449 - accuracy: 0.9860\n",
            "Epoch 3/5\n",
            "938/938 [==============================] - 53s 56ms/step - loss: 0.0313 - accuracy: 0.9901\n",
            "Epoch 4/5\n",
            "938/938 [==============================] - 54s 58ms/step - loss: 0.0230 - accuracy: 0.9925\n",
            "Epoch 5/5\n",
            "938/938 [==============================] - 54s 58ms/step - loss: 0.0166 - accuracy: 0.9945\n",
            "313/313 [==============================] - 3s 10ms/step - loss: 0.0307 - accuracy: 0.9899\n",
            "AI Bootcamp CNN Model Test Accuracy: 0.9898999929428101\n"
          ]
        }
      ]
    }
  ]
}