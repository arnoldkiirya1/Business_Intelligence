{
  "nbformat": 4,
  "nbformat_minor": 0,
  "metadata": {
    "colab": {
      "provenance": [],
      "include_colab_link": true
    },
    "kernelspec": {
      "name": "python3",
      "display_name": "Python 3"
    },
    "language_info": {
      "name": "python"
    }
  },
  "cells": [
    {
      "cell_type": "markdown",
      "metadata": {
        "id": "view-in-github",
        "colab_type": "text"
      },
      "source": [
        "<a href=\"https://colab.research.google.com/github/arnoldkiirya1/Business_Intelligence/blob/main/Python_modules.ipynb\" target=\"_parent\"><img src=\"https://colab.research.google.com/assets/colab-badge.svg\" alt=\"Open In Colab\"/></a>"
      ]
    },
    {
      "cell_type": "code",
      "execution_count": null,
      "metadata": {
        "colab": {
          "base_uri": "https://localhost:8080/"
        },
        "id": "Qd-0dRy9ppiN",
        "outputId": "b822426b-e3a1-468a-b5ce-0ee466f80e63"
      },
      "outputs": [
        {
          "output_type": "stream",
          "name": "stdout",
          "text": [
            "[1 4 5 6]\n",
            "<class 'numpy.ndarray'>\n",
            "[1. 4. 5. 6.]\n",
            "<class 'numpy.ndarray'>\n",
            "[[1. 2. 3.]\n",
            " [4. 5. 6.]]\n"
          ]
        },
        {
          "output_type": "execute_result",
          "data": {
            "text/plain": [
              "False"
            ]
          },
          "metadata": {},
          "execution_count": 17
        }
      ],
      "source": [
        "# Working with Numpy (Numerical Python) Scipy (Scientific Python), Pandas, Matplotlib\n",
        "\n",
        "#import the numpy module for sinlge use\n",
        "import numpy\n",
        "\n",
        "# importing numpy module for multple use\n",
        "import numpy as np\n",
        "\n",
        "# Arrays (This is similar to a list just that for it, all elements in it must have the same datatype)\n",
        "# Arrays make operations with large voulumes of numerical data very fast ( More efficient than lists)\n",
        "\n",
        "# Create an array from a list ( One Dimension )\n",
        "a = np.array([1, 4, 5, 6], int) # np.array([#,#,#,#], datatype)\n",
        "print(a)\n",
        "print(type(a))\n",
        "b = np.array([1, 4, 5, 6], float) # np.array([#,#,#,#], datatype)\n",
        "print(b)\n",
        "print(type(b))\n",
        "\n",
        "a[:3] # Accessing the first three items in the array\n",
        "\n",
        "#Creating Multiple Dimension Array ( More rows and columns)\n",
        "c = np.array([[1,2,3],[4,5,6]], float) # np.array([[row1], [row1]], datatype)\n",
        "print(c)\n",
        "\n",
        "c[1,:] # Skipping the first row and showing row 2\n",
        "\n",
        "#Array Properties\n",
        "c.shape # Shape of the Array\n",
        "\n",
        "c.dtype # Helps us in knowing what type of data is contained in the array\n",
        "\n",
        "#Array Functions\n",
        "len(c)\n",
        "\n",
        "#Statements\n",
        "# in statatement helps us in checking for values in the array\n",
        "2 in c\n",
        "\n"
      ]
    },
    {
      "cell_type": "code",
      "source": [
        "# Reshaping\n",
        "print(c)\n",
        "c.shape\n",
        "d = c.reshape((3,2)) # reshape((#,#))\n",
        "print(d)"
      ],
      "metadata": {
        "colab": {
          "base_uri": "https://localhost:8080/"
        },
        "id": "3LyKO3oYytmD",
        "outputId": "0d607be0-7ddf-46df-ee4f-2b18ff571475"
      },
      "execution_count": null,
      "outputs": [
        {
          "output_type": "stream",
          "name": "stdout",
          "text": [
            "[[1 2 3]\n",
            " [4 5 6]]\n",
            "[[1 2]\n",
            " [3 4]\n",
            " [5 6]]\n"
          ]
        }
      ]
    },
    {
      "cell_type": "code",
      "source": [
        "# Transpose c\n",
        "c.transpose()"
      ],
      "metadata": {
        "colab": {
          "base_uri": "https://localhost:8080/"
        },
        "id": "TChv2lzEzbNB",
        "outputId": "4d9ece3e-02d5-405e-89cf-19745b6e5b5b"
      },
      "execution_count": null,
      "outputs": [
        {
          "output_type": "execute_result",
          "data": {
            "text/plain": [
              "array([[1, 4],\n",
              "       [2, 5],\n",
              "       [3, 6]])"
            ]
          },
          "metadata": {},
          "execution_count": 24
        }
      ]
    },
    {
      "cell_type": "code",
      "source": [
        "# Array Mathematics\n",
        "a = np.array([1,2,3], int)\n",
        "b = np.array([5,2,6], int)\n",
        "#Addition\n",
        "a + b"
      ],
      "metadata": {
        "colab": {
          "base_uri": "https://localhost:8080/"
        },
        "id": "BVnUUYS90Qbb",
        "outputId": "3f385b31-a8d6-46f8-8b7c-465d6e9c6aa1"
      },
      "execution_count": null,
      "outputs": [
        {
          "output_type": "execute_result",
          "data": {
            "text/plain": [
              "array([6, 4, 9])"
            ]
          },
          "metadata": {},
          "execution_count": 27
        }
      ]
    },
    {
      "cell_type": "code",
      "source": [
        "#subtraction\n",
        "a - b"
      ],
      "metadata": {
        "colab": {
          "base_uri": "https://localhost:8080/"
        },
        "id": "GfqMjQdI1LAB",
        "outputId": "03335786-44d4-436a-99b0-9f5531f79b2a"
      },
      "execution_count": null,
      "outputs": [
        {
          "output_type": "execute_result",
          "data": {
            "text/plain": [
              "array([-4,  0, -3])"
            ]
          },
          "metadata": {},
          "execution_count": 28
        }
      ]
    },
    {
      "cell_type": "code",
      "source": [
        "#Division\n",
        "a / b"
      ],
      "metadata": {
        "id": "02CrTPtH1OlH"
      },
      "execution_count": null,
      "outputs": []
    },
    {
      "cell_type": "code",
      "source": [
        "#multiplication\n",
        "b * a"
      ],
      "metadata": {
        "colab": {
          "base_uri": "https://localhost:8080/"
        },
        "id": "WAnOSYBK1q6f",
        "outputId": "bd739849-e3bd-4224-ce4c-bab6991a6dea"
      },
      "execution_count": null,
      "outputs": [
        {
          "output_type": "execute_result",
          "data": {
            "text/plain": [
              "array([ 5,  4, 18])"
            ]
          },
          "metadata": {},
          "execution_count": 29
        }
      ]
    },
    {
      "cell_type": "code",
      "source": [
        "# Sqaures (Powering)\n",
        "a**2"
      ],
      "metadata": {
        "colab": {
          "base_uri": "https://localhost:8080/"
        },
        "id": "tiBEeAm_14yv",
        "outputId": "a9ae0f9d-e08f-4e82-832b-f774f824e1b6"
      },
      "execution_count": null,
      "outputs": [
        {
          "output_type": "execute_result",
          "data": {
            "text/plain": [
              "array([1, 4, 9])"
            ]
          },
          "metadata": {},
          "execution_count": 30
        }
      ]
    },
    {
      "cell_type": "code",
      "source": [
        "# Array Iterations\n",
        "f = np.array([1,4,5], int)\n",
        "for x in f:\n",
        "  print(x)"
      ],
      "metadata": {
        "colab": {
          "base_uri": "https://localhost:8080/"
        },
        "id": "vEX2V90q2SFY",
        "outputId": "99793f5a-4671-4dac-96b9-5ecaed808c78"
      },
      "execution_count": null,
      "outputs": [
        {
          "output_type": "stream",
          "name": "stdout",
          "text": [
            "1\n",
            "4\n",
            "5\n"
          ]
        }
      ]
    },
    {
      "cell_type": "code",
      "source": [
        "g = np.array([[1,2,3], [4,5,6]], int) \n",
        "for x in g: # the loop returns a subsection of the array\n",
        "   print(x)"
      ],
      "metadata": {
        "colab": {
          "base_uri": "https://localhost:8080/"
        },
        "id": "8E4bOAdz2yV3",
        "outputId": "008e26a0-617c-47a0-a9d2-203624c2dfda"
      },
      "execution_count": null,
      "outputs": [
        {
          "output_type": "stream",
          "name": "stdout",
          "text": [
            "[1 2 3]\n",
            "[4 5 6]\n"
          ]
        }
      ]
    },
    {
      "cell_type": "code",
      "source": [
        "g = np.array([[1,2,3], [4,5,6]], int) \n",
        "for (x, y, z) in g: # the loop returns a subsection of the array\n",
        "  print(x * y * z)"
      ],
      "metadata": {
        "colab": {
          "base_uri": "https://localhost:8080/"
        },
        "id": "uhMhMpM44FCO",
        "outputId": "7997e4c7-6e6a-45d3-8ea8-c4629fd68aed"
      },
      "execution_count": null,
      "outputs": [
        {
          "output_type": "stream",
          "name": "stdout",
          "text": [
            "6\n",
            "120\n"
          ]
        }
      ]
    },
    {
      "cell_type": "code",
      "source": [
        "#Array Operations ie sum, product, variance, average(mean), sort\n",
        "h = np.array([2,6,4], int)\n",
        "h.sum()"
      ],
      "metadata": {
        "colab": {
          "base_uri": "https://localhost:8080/"
        },
        "id": "ok6eH_kA5LUX",
        "outputId": "d21dbfca-0067-407c-e485-fd83241dc87d"
      },
      "execution_count": null,
      "outputs": [
        {
          "output_type": "execute_result",
          "data": {
            "text/plain": [
              "12"
            ]
          },
          "metadata": {},
          "execution_count": 44
        }
      ]
    },
    {
      "cell_type": "code",
      "source": [
        "h.prod() #product"
      ],
      "metadata": {
        "colab": {
          "base_uri": "https://localhost:8080/"
        },
        "id": "tpnwAvNr5vXm",
        "outputId": "f1e97f35-edbb-4465-e076-1b2971f5c984"
      },
      "execution_count": null,
      "outputs": [
        {
          "output_type": "execute_result",
          "data": {
            "text/plain": [
              "48"
            ]
          },
          "metadata": {},
          "execution_count": 39
        }
      ]
    },
    {
      "cell_type": "code",
      "source": [
        "h.max() # Getting the maximum"
      ],
      "metadata": {
        "colab": {
          "base_uri": "https://localhost:8080/"
        },
        "id": "VqMtv3Hb51il",
        "outputId": "5e0bff33-f883-44e9-f57c-488f68b581d3"
      },
      "execution_count": null,
      "outputs": [
        {
          "output_type": "execute_result",
          "data": {
            "text/plain": [
              "6"
            ]
          },
          "metadata": {},
          "execution_count": 41
        }
      ]
    },
    {
      "cell_type": "code",
      "source": [
        "h.sort()\n",
        "h"
      ],
      "metadata": {
        "colab": {
          "base_uri": "https://localhost:8080/"
        },
        "id": "USOpuO2k588-",
        "outputId": "ad65fba0-5a5c-4e26-a0af-90c597d62dc5"
      },
      "execution_count": null,
      "outputs": [
        {
          "output_type": "execute_result",
          "data": {
            "text/plain": [
              "array([2, 4, 6])"
            ]
          },
          "metadata": {},
          "execution_count": 45
        }
      ]
    },
    {
      "cell_type": "code",
      "source": [
        "# Read about Doting Matrices,  Getting inverse of a matrice and Polynomial Mathematics\n",
        "i = np.poly([8,-5, 6])\n",
        "print(i)"
      ],
      "metadata": {
        "colab": {
          "base_uri": "https://localhost:8080/"
        },
        "id": "ATjETiPd6ag3",
        "outputId": "abc22f25-c7cd-4ea1-a440-7d2a8742f6c5"
      },
      "execution_count": null,
      "outputs": [
        {
          "output_type": "stream",
          "name": "stdout",
          "text": [
            "[  1.  -9. -22. 240.]\n"
          ]
        }
      ]
    },
    {
      "cell_type": "code",
      "source": [
        "i = np.roots([8,-5, 6])\n",
        "print(i)"
      ],
      "metadata": {
        "colab": {
          "base_uri": "https://localhost:8080/"
        },
        "id": "R6jO14So7hZ8",
        "outputId": "dec41f85-0a35-4426-ce99-ed6da75b4f1f"
      },
      "execution_count": null,
      "outputs": [
        {
          "output_type": "stream",
          "name": "stdout",
          "text": [
            "[0.3125+0.807678j 0.3125-0.807678j]\n"
          ]
        }
      ]
    },
    {
      "cell_type": "code",
      "source": [
        "#Pandas Introduction (Panel Datas Library)\n",
        "# Def: is a python library used for working with data sets, used analyze big data and making conclusions based on statistical methods\n",
        "\n",
        "# importing pandas library\n",
        "import pandas as pd\n",
        "\n",
        "# Pandas contains series which are like columns in a table\n",
        "\n",
        "# simple Pandas series from a list\n",
        "a = [1, 7, 3] # our List\n",
        "mydataset = pd.Series(a)   # same as myseries = pandas.Series(a)\n",
        "\n",
        "print(mydataset)\n",
        "\n",
        "#labels are used to access a specified value\n",
        "print(mydataset[1]) # datasetname[index_number]\n",
        "\n"
      ],
      "metadata": {
        "colab": {
          "base_uri": "https://localhost:8080/"
        },
        "id": "gmruwKpcI4zl",
        "outputId": "f0ca6663-ad96-4a7f-a216-39be01e0a511"
      },
      "execution_count": null,
      "outputs": [
        {
          "output_type": "stream",
          "name": "stdout",
          "text": [
            "0    1\n",
            "1    7\n",
            "2    3\n",
            "dtype: int64\n",
            "7\n"
          ]
        }
      ]
    },
    {
      "cell_type": "code",
      "source": [
        "# Creating our own labels using the index argument\n",
        "mydataset = pd.Series(a, index = [\"x\",\"y\",\"z\"])\n",
        "print(mydataset)\n"
      ],
      "metadata": {
        "colab": {
          "base_uri": "https://localhost:8080/"
        },
        "id": "F2UK7M7EN-51",
        "outputId": "9f1eebaa-65b0-4402-8d30-a77102b2ef10"
      },
      "execution_count": null,
      "outputs": [
        {
          "output_type": "stream",
          "name": "stdout",
          "text": [
            "x    1\n",
            "y    7\n",
            "z    3\n",
            "dtype: int64\n"
          ]
        }
      ]
    },
    {
      "cell_type": "code",
      "source": [
        "# Using Key/Value Objects as same\n",
        "calories = { \n",
        "    \"day1\":420, \"day2\": 500\n",
        "    }\n",
        "calories_data = pd.Series(calories)\n",
        "print(calories_data)"
      ],
      "metadata": {
        "colab": {
          "base_uri": "https://localhost:8080/"
        },
        "id": "0LHACcQWPOLB",
        "outputId": "4f42bdff-1448-4f58-8afe-51de024335f6"
      },
      "execution_count": null,
      "outputs": [
        {
          "output_type": "stream",
          "name": "stdout",
          "text": [
            "day1    420\n",
            "day2    500\n",
            "dtype: int64\n"
          ]
        }
      ]
    },
    {
      "cell_type": "code",
      "source": [
        "# Dataframes in Pandas usually used for multi-dimensional tables\n",
        "\n",
        "data = {\n",
        "    \"calories\": [420, 380, 390],\n",
        "    \"duration\": [50, 40, 30]\n",
        "\n",
        "}\n",
        "\n",
        "mydataframe = pd.DataFrame(data) # DataFrame()\n",
        "print(mydataframe)\n"
      ],
      "metadata": {
        "colab": {
          "base_uri": "https://localhost:8080/"
        },
        "id": "fyWen3f9Q-E4",
        "outputId": "e6ba0d5f-c706-45db-a71a-a38a47379296"
      },
      "execution_count": null,
      "outputs": [
        {
          "output_type": "stream",
          "name": "stdout",
          "text": [
            "   calories  duration\n",
            "0       420        50\n",
            "1       380        40\n",
            "2       390        30\n"
          ]
        }
      ]
    },
    {
      "cell_type": "code",
      "source": [
        "#Locate a row using loc attribute\n",
        "print(mydataframe.loc[0])\n",
        "\n",
        "#multiple index\n",
        "print(mydataframe.loc[[0,1]]) #dataframe_Name.loc[[index1, index2, index3, etc]]"
      ],
      "metadata": {
        "colab": {
          "base_uri": "https://localhost:8080/"
        },
        "id": "zXpf7ElsTzU6",
        "outputId": "4daa4687-a19d-48d2-9256-253998946237"
      },
      "execution_count": null,
      "outputs": [
        {
          "output_type": "stream",
          "name": "stdout",
          "text": [
            "calories    420\n",
            "duration     50\n",
            "Name: 0, dtype: int64\n",
            "   calories  duration\n",
            "0       420        50\n",
            "1       380        40\n"
          ]
        }
      ]
    },
    {
      "cell_type": "code",
      "source": [
        "# Creating Indexes \n",
        "\n",
        "data = {\n",
        "    \"calories\": [420, 380, 390],\n",
        "    \"duration\": [50, 40, 30]\n",
        "\n",
        "}\n",
        "\n",
        "mydataframe = pd.DataFrame(data, index = [\"day1\",\"day2\",\"day3\"]) # DataFrame()\n",
        "print(mydataframe)\n",
        "\n",
        "#locating rows using index\n",
        "print(mydataframe.loc[\"day2\"]) #.loc[\"index_lable\"]"
      ],
      "metadata": {
        "colab": {
          "base_uri": "https://localhost:8080/"
        },
        "id": "ZDmFAeagVEpQ",
        "outputId": "bd45e846-5a9e-40e8-eba3-ee5ca367c9ad"
      },
      "execution_count": null,
      "outputs": [
        {
          "output_type": "stream",
          "name": "stdout",
          "text": [
            "      calories  duration\n",
            "day1       420        50\n",
            "day2       380        40\n",
            "day3       390        30\n",
            "calories    380\n",
            "duration     40\n",
            "Name: day2, dtype: int64\n"
          ]
        }
      ]
    },
    {
      "cell_type": "code",
      "source": [
        "#Importing csv files using pandas\n",
        "import pandas as pd\n",
        "\n",
        "df = pd.read_csv(\"Kaliro_Rd.csv\")\n",
        "\n",
        "print(df)"
      ],
      "metadata": {
        "colab": {
          "base_uri": "https://localhost:8080/"
        },
        "id": "hIcPy5FgYAD4",
        "outputId": "0767b12a-97cd-4b16-856f-8c3136589a9b"
      },
      "execution_count": null,
      "outputs": [
        {
          "output_type": "stream",
          "name": "stdout",
          "text": [
            "     Point   Northings    Eastings  Elevation Description\n",
            "0        1  113736.624  551844.379   1071.648    cl 2+000\n",
            "1        2  113737.123  551842.365   1071.552          sh\n",
            "2        3  113738.059  551839.754   1071.892          sh\n",
            "3        4  113739.209  551837.566   1071.757          sh\n",
            "4        5  113735.755  551846.365   1071.660          sh\n",
            "..     ...         ...         ...        ...         ...\n",
            "557    558  115393.255  552359.599   1091.748          sh\n",
            "558    559  115394.342  552354.314   1091.398          sh\n",
            "559    560  115394.628  552351.699   1091.288          sh\n",
            "560    561  115394.999  552349.673   1091.362          Re\n",
            "561    562  115502.473  552365.730   1093.990       BUL13\n",
            "\n",
            "[562 rows x 5 columns]\n"
          ]
        }
      ]
    },
    {
      "cell_type": "code",
      "source": [
        "# Viewing data\n",
        "print(df.head()) # By default it will dipaly the first five\n",
        "print(df.head(10))  # The first 10 rows"
      ],
      "metadata": {
        "colab": {
          "base_uri": "https://localhost:8080/"
        },
        "id": "sAAY4XjFZ2HJ",
        "outputId": "a65a5f8d-d827-4030-8373-b4397d95988a"
      },
      "execution_count": null,
      "outputs": [
        {
          "output_type": "stream",
          "name": "stdout",
          "text": [
            "   Point   Northings    Eastings  Elevation Description\n",
            "0      1  113736.624  551844.379   1071.648    cl 2+000\n",
            "1      2  113737.123  551842.365   1071.552          sh\n",
            "2      3  113738.059  551839.754   1071.892          sh\n",
            "3      4  113739.209  551837.566   1071.757          sh\n",
            "4      5  113735.755  551846.365   1071.660          sh\n",
            "   Point   Northings    Eastings  Elevation Description\n",
            "0      1  113736.624  551844.379   1071.648    cl 2+000\n",
            "1      2  113737.123  551842.365   1071.552          sh\n",
            "2      3  113738.059  551839.754   1071.892          sh\n",
            "3      4  113739.209  551837.566   1071.757          sh\n",
            "4      5  113735.755  551846.365   1071.660          sh\n",
            "5      6  113734.534  551849.270   1071.537          sh\n",
            "6      7  113733.803  551850.910   1072.449          Re\n",
            "7      8  113755.324  551851.078   1072.194          cl\n",
            "8      9  113756.118  551849.586   1071.948          sh\n",
            "9     10  113756.782  551848.040   1073.008          sh\n"
          ]
        }
      ]
    },
    {
      "cell_type": "code",
      "source": [
        "print(df.tail())"
      ],
      "metadata": {
        "colab": {
          "base_uri": "https://localhost:8080/"
        },
        "id": "wVJC6qDPbSUB",
        "outputId": "119ed295-bb6b-4fe9-adab-d42916b08959"
      },
      "execution_count": null,
      "outputs": [
        {
          "output_type": "stream",
          "name": "stdout",
          "text": [
            "     Point   Northings    Eastings  Elevation Description\n",
            "557    558  115393.255  552359.599   1091.748          sh\n",
            "558    559  115394.342  552354.314   1091.398          sh\n",
            "559    560  115394.628  552351.699   1091.288          sh\n",
            "560    561  115394.999  552349.673   1091.362          Re\n",
            "561    562  115502.473  552365.730   1093.990       BUL13\n"
          ]
        }
      ]
    },
    {
      "cell_type": "code",
      "source": [
        "# How to get info about the data\n",
        "print(df.info())"
      ],
      "metadata": {
        "colab": {
          "base_uri": "https://localhost:8080/"
        },
        "id": "xBTv7EBfbljx",
        "outputId": "a24c1fd8-17a4-42cd-ab17-9fc354bd234b"
      },
      "execution_count": null,
      "outputs": [
        {
          "output_type": "stream",
          "name": "stdout",
          "text": [
            "<class 'pandas.core.frame.DataFrame'>\n",
            "RangeIndex: 562 entries, 0 to 561\n",
            "Data columns (total 5 columns):\n",
            " #   Column       Non-Null Count  Dtype  \n",
            "---  ------       --------------  -----  \n",
            " 0   Point        562 non-null    int64  \n",
            " 1   Northings    562 non-null    float64\n",
            " 2   Eastings     562 non-null    float64\n",
            " 3   Elevation    562 non-null    float64\n",
            " 4   Description  562 non-null    object \n",
            "dtypes: float64(3), int64(1), object(1)\n",
            "memory usage: 22.1+ KB\n",
            "None\n"
          ]
        }
      ]
    },
    {
      "cell_type": "code",
      "source": [
        "#Line Graphs\n",
        "import numpy as np\n",
        "from matplotlib import pyplot as plt\n",
        "\n",
        "first = 200\n",
        "print(first)\n",
        "random_numbers = np.random.randn(100)\n",
        "print(random_numbers)\n",
        "\n",
        "ys = first + random_numbers\n",
        "\n",
        "x = [ x for x in range(len(ys))] # (x,y)\n",
        "\n",
        "#without editing the graph\n",
        "plt.plot(x, ys, '-')\n",
        "plt.show()\n",
        "\n",
        "#edit our graph by adding in some properties\n",
        "plt.fill_between(x, ys, 197, where = (ys> 197), facecolor ='g', alpha = 0.6)\n",
        "plt.title(\"Business Intelligence\")\n",
        "plt.xlabel(\"x\")\n",
        "plt.ylabel(\"y\")\n",
        "plt.show()\n"
      ],
      "metadata": {
        "id": "JsgG7VW2dQET",
        "colab": {
          "base_uri": "https://localhost:8080/",
          "height": 855
        },
        "outputId": "935d8d54-ee71-419a-ee1f-c321c04faa8e"
      },
      "execution_count": 9,
      "outputs": [
        {
          "output_type": "stream",
          "name": "stdout",
          "text": [
            "200\n",
            "[ 0.0946864  -0.57604812 -0.87451911 -2.37486462 -1.3443016  -0.16715356\n",
            "  1.34419497  1.11556156 -1.02709311 -0.20441784  0.04462622  1.09645365\n",
            "  0.11757952  2.04839654 -0.3466625  -1.10629993 -0.80951582 -0.33376872\n",
            "  0.49537915 -0.88798058  0.88625112  1.27832213 -0.77008588  0.07900438\n",
            "  0.75060542 -0.35956306 -1.31673407  1.81540221 -0.76058587  0.16052368\n",
            " -0.14053901  1.32271224 -0.5476294   0.2787831   0.08772483  0.53262414\n",
            "  0.40470444 -0.29800124 -0.12490987 -0.29872967 -0.46899777  0.49357997\n",
            " -1.91959351 -2.39738951  0.11300154  0.41544012 -0.68150067 -0.91033927\n",
            " -0.14000996 -1.07901548  1.98845813  0.27118649  0.76665705  1.57683974\n",
            "  0.04728336 -0.18703468  0.15481734 -0.78784223 -0.0786026   0.04011471\n",
            " -2.79178459  0.40576021  0.91092511 -1.26596346  0.59572989 -1.34837444\n",
            " -0.21179353  0.00528114 -0.65806359 -0.04138007 -2.43699207 -0.9753192\n",
            " -0.38051779  0.68506259  0.70285986  2.33944276 -0.49501688  1.21163806\n",
            "  0.47364025  1.09513133  0.44558301 -2.32214538  2.24283261  0.06540651\n",
            "  2.15800437 -0.79755637 -1.20089743  0.11633607 -0.36285733 -1.01257419\n",
            "  0.11963876  1.17298113 -1.36092416  0.1559939  -0.63114484  1.2992158\n",
            "  0.63463209 -0.15777132 -1.78538162 -0.53805451]\n"
          ]
        },
        {
          "output_type": "display_data",
          "data": {
            "text/plain": [
              "<Figure size 432x288 with 1 Axes>"
            ],
            "image/png": "[encoded data removed]"
          },
          "metadata": {
            "needs_background": "light"
          }
        },
        {
          "output_type": "display_data",
          "data": {
            "text/plain": [
              "<Figure size 432x288 with 1 Axes>"
            ],
            "image/png": "[encoded data removed]"
          },
          "metadata": {
            "needs_background": "light"
          }
        }
      ]
    },
    {
      "cell_type": "code",
      "source": [
        "#Bar Plots\n",
        "import numpy as np\n",
        "from matplotlib import pyplot as plt\n",
        "\n",
        "#create a dataset\n",
        "data = { \n",
        "    \"day1\":420, \"day2\": 500, \"day3\":200\n",
        "    }\n",
        "\n",
        "#Extraction\n",
        "days = list(data.keys())\n",
        "calories = list(data.values())\n",
        "\n",
        "print(days)\n",
        "print(calories)\n",
        "\n",
        "#plotting\n",
        "fig = plt.figure(figsize = (10 ,5 )) #our graph paper\n",
        "#creating the bar plot\n",
        "plt.bar(days, calories, color='maroon', width=0.4) #plt.bar(x,y)\n",
        "plt.xlabel(\"Days\")\n",
        "plt.ylabel(\"Calories\")\n",
        "plt.title(\"A graph of Calories against days\")\n",
        "plt.show()\n"
      ],
      "metadata": {
        "id": "DMDrH4qLdXuJ",
        "colab": {
          "base_uri": "https://localhost:8080/",
          "height": 385
        },
        "outputId": "48b7d9ca-1288-4488-cf77-2c31c4a316db"
      },
      "execution_count": 10,
      "outputs": [
        {
          "output_type": "stream",
          "name": "stdout",
          "text": [
            "['day1', 'day2', 'day3']\n",
            "[420, 500, 200]\n"
          ]
        },
        {
          "output_type": "display_data",
          "data": {
            "text/plain": [
              "<Figure size 720x360 with 1 Axes>"
            ],
            "image/png": "[encoded data removed]"
          },
          "metadata": {
            "needs_background": "light"
          }
        }
      ]
    },
    {
      "cell_type": "code",
      "source": [
        "#Pie Chart\n",
        "from matplotlib import pyplot as plt\n",
        "import numpy as np\n",
        "\n",
        "#creating a dataset\n",
        "Subjects = [\"English\", \"Math\", \"Science\", \"SST\"]\n",
        "marks = [87, 50, 67, 79]\n",
        "\n",
        "#create a pie chart\n",
        "fig = plt.figure(figsize = (10, 7))\n",
        "plt.pie(marks, labels = Subjects)\n",
        "#show the plot\n",
        "plt.show()"
      ],
      "metadata": {
        "id": "aEBcRZqzdYdx",
        "colab": {
          "base_uri": "https://localhost:8080/",
          "height": 411
        },
        "outputId": "91accef0-bb2f-4fdb-f29b-4970c8c25475"
      },
      "execution_count": 11,
      "outputs": [
        {
          "output_type": "display_data",
          "data": {
            "text/plain": [
              "<Figure size 720x504 with 1 Axes>"
            ],
            "image/png": "[encoded data removed]"
          },
          "metadata": {}
        }
      ]
    },
    {
      "cell_type": "code",
      "source": [
        "# customize our pie chart \n",
        "\n",
        "\n",
        "\n",
        "\n"
      ],
      "metadata": {
        "id": "xDNvqr_-n5Cu"
      },
      "execution_count": null,
      "outputs": []
    }
  ]
}