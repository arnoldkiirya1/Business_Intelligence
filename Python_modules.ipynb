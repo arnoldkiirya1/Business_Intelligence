{
  "nbformat": 4,
  "nbformat_minor": 0,
  "metadata": {
    "colab": {
      "provenance": [],
      "authorship_tag": "ABX9TyNJnVUGevShIuKCTfdqAWMa",
      "include_colab_link": true
    },
    "kernelspec": {
      "name": "python3",
      "display_name": "Python 3"
    },
    "language_info": {
      "name": "python"
    }
  },
  "cells": [
    {
      "cell_type": "markdown",
      "metadata": {
        "id": "view-in-github",
        "colab_type": "text"
      },
      "source": [
        "<a href=\"https://colab.research.google.com/github/arnoldkiirya1/Business_Intelligence/blob/main/Python_modules.ipynb\" target=\"_parent\"><img src=\"https://colab.research.google.com/assets/colab-badge.svg\" alt=\"Open In Colab\"/></a>"
      ]
    },
    {
      "cell_type": "code",
      "execution_count": null,
      "metadata": {
        "colab": {
          "base_uri": "https://localhost:8080/"
        },
        "id": "Qd-0dRy9ppiN",
        "outputId": "b822426b-e3a1-468a-b5ce-0ee466f80e63"
      },
      "outputs": [
        {
          "output_type": "stream",
          "name": "stdout",
          "text": [
            "[1 4 5 6]\n",
            "<class 'numpy.ndarray'>\n",
            "[1. 4. 5. 6.]\n",
            "<class 'numpy.ndarray'>\n",
            "[[1. 2. 3.]\n",
            " [4. 5. 6.]]\n"
          ]
        },
        {
          "output_type": "execute_result",
          "data": {
            "text/plain": [
              "False"
            ]
          },
          "metadata": {},
          "execution_count": 17
        }
      ],
      "source": [
        "# Working with Numpy (Numerical Python) Scipy (Scientific Python)\n",
        "\n",
        "#import the numpy module for sinlge use\n",
        "import numpy\n",
        "\n",
        "# importing numpy module for multple use\n",
        "import numpy as np\n",
        "\n",
        "# Arrays (This is similar to a list just that for it, all elements in it must have the same datatype)\n",
        "# Arrays make operations with large voulumes of numerical data very fast ( More efficient than lists)\n",
        "\n",
        "# Create an array from a list ( One Dimension )\n",
        "a = np.array([1, 4, 5, 6], int) # np.array([#,#,#,#], datatype)\n",
        "print(a)\n",
        "print(type(a))\n",
        "b = np.array([1, 4, 5, 6], float) # np.array([#,#,#,#], datatype)\n",
        "print(b)\n",
        "print(type(b))\n",
        "\n",
        "a[:3] # Accessing the first three items in the array\n",
        "\n",
        "#Creating Multiple Dimension Array ( More rows and columns)\n",
        "c = np.array([[1,2,3],[4,5,6]], float) # np.array([[row1], [row1]], datatype)\n",
        "print(c)\n",
        "\n",
        "c[1,:] # Skipping the first row and showing row 2\n",
        "\n",
        "#Array Properties\n",
        "c.shape # Shape of the Array\n",
        "\n",
        "c.dtype # Helps us in knowing what type of data is contained in the array\n",
        "\n",
        "#Array Functions\n",
        "len(c)\n",
        "\n",
        "#Statements\n",
        "# in statatement helps us in checking for values in the array\n",
        "2 in c\n",
        "\n"
      ]
    },
    {
      "cell_type": "code",
      "source": [
        "# Reshaping\n",
        "print(c)\n",
        "c.shape\n",
        "d = c.reshape((3,2)) # reshape((#,#))\n",
        "print(d)"
      ],
      "metadata": {
        "colab": {
          "base_uri": "https://localhost:8080/"
        },
        "id": "3LyKO3oYytmD",
        "outputId": "0d607be0-7ddf-46df-ee4f-2b18ff571475"
      },
      "execution_count": null,
      "outputs": [
        {
          "output_type": "stream",
          "name": "stdout",
          "text": [
            "[[1 2 3]\n",
            " [4 5 6]]\n",
            "[[1 2]\n",
            " [3 4]\n",
            " [5 6]]\n"
          ]
        }
      ]
    },
    {
      "cell_type": "code",
      "source": [
        "# Transpose c\n",
        "c.transpose()"
      ],
      "metadata": {
        "colab": {
          "base_uri": "https://localhost:8080/"
        },
        "id": "TChv2lzEzbNB",
        "outputId": "4d9ece3e-02d5-405e-89cf-19745b6e5b5b"
      },
      "execution_count": null,
      "outputs": [
        {
          "output_type": "execute_result",
          "data": {
            "text/plain": [
              "array([[1, 4],\n",
              "       [2, 5],\n",
              "       [3, 6]])"
            ]
          },
          "metadata": {},
          "execution_count": 24
        }
      ]
    },
    {
      "cell_type": "code",
      "source": [
        "# Array Mathematics\n",
        "a = np.array([1,2,3], int)\n",
        "b = np.array([5,2,6], int)\n",
        "#Addition\n",
        "a + b"
      ],
      "metadata": {
        "colab": {
          "base_uri": "https://localhost:8080/"
        },
        "id": "BVnUUYS90Qbb",
        "outputId": "3f385b31-a8d6-46f8-8b7c-465d6e9c6aa1"
      },
      "execution_count": null,
      "outputs": [
        {
          "output_type": "execute_result",
          "data": {
            "text/plain": [
              "array([6, 4, 9])"
            ]
          },
          "metadata": {},
          "execution_count": 27
        }
      ]
    },
    {
      "cell_type": "code",
      "source": [
        "#subtraction\n",
        "a - b"
      ],
      "metadata": {
        "colab": {
          "base_uri": "https://localhost:8080/"
        },
        "id": "GfqMjQdI1LAB",
        "outputId": "03335786-44d4-436a-99b0-9f5531f79b2a"
      },
      "execution_count": null,
      "outputs": [
        {
          "output_type": "execute_result",
          "data": {
            "text/plain": [
              "array([-4,  0, -3])"
            ]
          },
          "metadata": {},
          "execution_count": 28
        }
      ]
    },
    {
      "cell_type": "code",
      "source": [
        "#Division\n",
        "a / b"
      ],
      "metadata": {
        "id": "02CrTPtH1OlH"
      },
      "execution_count": null,
      "outputs": []
    },
    {
      "cell_type": "code",
      "source": [
        "#multiplication\n",
        "b * a"
      ],
      "metadata": {
        "colab": {
          "base_uri": "https://localhost:8080/"
        },
        "id": "WAnOSYBK1q6f",
        "outputId": "bd739849-e3bd-4224-ce4c-bab6991a6dea"
      },
      "execution_count": null,
      "outputs": [
        {
          "output_type": "execute_result",
          "data": {
            "text/plain": [
              "array([ 5,  4, 18])"
            ]
          },
          "metadata": {},
          "execution_count": 29
        }
      ]
    },
    {
      "cell_type": "code",
      "source": [
        "# Sqaures (Powering)\n",
        "a**2"
      ],
      "metadata": {
        "colab": {
          "base_uri": "https://localhost:8080/"
        },
        "id": "tiBEeAm_14yv",
        "outputId": "a9ae0f9d-e08f-4e82-832b-f774f824e1b6"
      },
      "execution_count": null,
      "outputs": [
        {
          "output_type": "execute_result",
          "data": {
            "text/plain": [
              "array([1, 4, 9])"
            ]
          },
          "metadata": {},
          "execution_count": 30
        }
      ]
    },
    {
      "cell_type": "code",
      "source": [
        "# Array Iterations\n",
        "f = np.array([1,4,5], int)\n",
        "for x in f:\n",
        "  print(x)"
      ],
      "metadata": {
        "colab": {
          "base_uri": "https://localhost:8080/"
        },
        "id": "vEX2V90q2SFY",
        "outputId": "99793f5a-4671-4dac-96b9-5ecaed808c78"
      },
      "execution_count": null,
      "outputs": [
        {
          "output_type": "stream",
          "name": "stdout",
          "text": [
            "1\n",
            "4\n",
            "5\n"
          ]
        }
      ]
    },
    {
      "cell_type": "code",
      "source": [
        "g = np.array([[1,2,3], [4,5,6]], int) \n",
        "for x in g: # the loop returns a subsection of the array\n",
        "   print(x)"
      ],
      "metadata": {
        "colab": {
          "base_uri": "https://localhost:8080/"
        },
        "id": "8E4bOAdz2yV3",
        "outputId": "008e26a0-617c-47a0-a9d2-203624c2dfda"
      },
      "execution_count": null,
      "outputs": [
        {
          "output_type": "stream",
          "name": "stdout",
          "text": [
            "[1 2 3]\n",
            "[4 5 6]\n"
          ]
        }
      ]
    },
    {
      "cell_type": "code",
      "source": [
        "g = np.array([[1,2,3], [4,5,6]], int) \n",
        "for (x, y, z) in g: # the loop returns a subsection of the array\n",
        "  print(x * y * z)"
      ],
      "metadata": {
        "colab": {
          "base_uri": "https://localhost:8080/"
        },
        "id": "uhMhMpM44FCO",
        "outputId": "7997e4c7-6e6a-45d3-8ea8-c4629fd68aed"
      },
      "execution_count": null,
      "outputs": [
        {
          "output_type": "stream",
          "name": "stdout",
          "text": [
            "6\n",
            "120\n"
          ]
        }
      ]
    },
    {
      "cell_type": "code",
      "source": [
        "#Array Operations ie sum, product, variance, average(mean), sort\n",
        "h = np.array([2,6,4], int)\n",
        "h.sum()"
      ],
      "metadata": {
        "colab": {
          "base_uri": "https://localhost:8080/"
        },
        "id": "ok6eH_kA5LUX",
        "outputId": "d21dbfca-0067-407c-e485-fd83241dc87d"
      },
      "execution_count": null,
      "outputs": [
        {
          "output_type": "execute_result",
          "data": {
            "text/plain": [
              "12"
            ]
          },
          "metadata": {},
          "execution_count": 44
        }
      ]
    },
    {
      "cell_type": "code",
      "source": [
        "h.prod() #product"
      ],
      "metadata": {
        "colab": {
          "base_uri": "https://localhost:8080/"
        },
        "id": "tpnwAvNr5vXm",
        "outputId": "f1e97f35-edbb-4465-e076-1b2971f5c984"
      },
      "execution_count": null,
      "outputs": [
        {
          "output_type": "execute_result",
          "data": {
            "text/plain": [
              "48"
            ]
          },
          "metadata": {},
          "execution_count": 39
        }
      ]
    },
    {
      "cell_type": "code",
      "source": [
        "h.max() # Getting the maximum"
      ],
      "metadata": {
        "colab": {
          "base_uri": "https://localhost:8080/"
        },
        "id": "VqMtv3Hb51il",
        "outputId": "5e0bff33-f883-44e9-f57c-488f68b581d3"
      },
      "execution_count": null,
      "outputs": [
        {
          "output_type": "execute_result",
          "data": {
            "text/plain": [
              "6"
            ]
          },
          "metadata": {},
          "execution_count": 41
        }
      ]
    },
    {
      "cell_type": "code",
      "source": [
        "h.sort()\n",
        "h"
      ],
      "metadata": {
        "colab": {
          "base_uri": "https://localhost:8080/"
        },
        "id": "USOpuO2k588-",
        "outputId": "ad65fba0-5a5c-4e26-a0af-90c597d62dc5"
      },
      "execution_count": null,
      "outputs": [
        {
          "output_type": "execute_result",
          "data": {
            "text/plain": [
              "array([2, 4, 6])"
            ]
          },
          "metadata": {},
          "execution_count": 45
        }
      ]
    },
    {
      "cell_type": "code",
      "source": [
        "# Read about Doting Matrices,  Getting inverse of a matrice and Polynomial Mathematics\n",
        "i = np.poly([8,-5, 6])\n",
        "print(i)"
      ],
      "metadata": {
        "colab": {
          "base_uri": "https://localhost:8080/"
        },
        "id": "ATjETiPd6ag3",
        "outputId": "abc22f25-c7cd-4ea1-a440-7d2a8742f6c5"
      },
      "execution_count": null,
      "outputs": [
        {
          "output_type": "stream",
          "name": "stdout",
          "text": [
            "[  1.  -9. -22. 240.]\n"
          ]
        }
      ]
    },
    {
      "cell_type": "code",
      "source": [
        "i = np.roots([8,-5, 6])\n",
        "print(i)"
      ],
      "metadata": {
        "colab": {
          "base_uri": "https://localhost:8080/"
        },
        "id": "R6jO14So7hZ8",
        "outputId": "dec41f85-0a35-4426-ce99-ed6da75b4f1f"
      },
      "execution_count": null,
      "outputs": [
        {
          "output_type": "stream",
          "name": "stdout",
          "text": [
            "[0.3125+0.807678j 0.3125-0.807678j]\n"
          ]
        }
      ]
    }
  ]
}