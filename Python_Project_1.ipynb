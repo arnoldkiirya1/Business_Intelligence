{
  "nbformat": 4,
  "nbformat_minor": 0,
  "metadata": {
    "colab": {
      "provenance": [],
      "authorship_tag": "ABX9TyOP/IvY6l4HPHeu9pkTuigc",
      "include_colab_link": true
    },
    "kernelspec": {
      "name": "python3",
      "display_name": "Python 3"
    },
    "language_info": {
      "name": "python"
    }
  },
  "cells": [
    {
      "cell_type": "markdown",
      "metadata": {
        "id": "view-in-github",
        "colab_type": "text"
      },
      "source": [
        "<a href=\"https://colab.research.google.com/github/arnoldkiirya1/Business_Intelligence/blob/main/Python_Project_1.ipynb\" target=\"_parent\"><img src=\"https://colab.research.google.com/assets/colab-badge.svg\" alt=\"Open In Colab\"/></a>"
      ]
    },
    {
      "cell_type": "markdown",
      "source": [
        "**Calculate Average**"
      ],
      "metadata": {
        "id": "wd7yn6mwHtBQ"
      }
    },
    {
      "cell_type": "code",
      "execution_count": null,
      "metadata": {
        "id": "5VJ6wJ2qGQvp"
      },
      "outputs": [],
      "source": [
        "# Input from the user\n",
        "num1 = float(input(\"Enter the first number: \"))\n",
        "num2 = float(input(\"Enter the second number: \"))\n",
        "num3 = float(input(\"Enter the third number: \"))\n",
        "\n",
        "# Calculate the average\n",
        "average = (num1 + num2 + num3) / 3\n",
        "\n",
        "# Display the result\n",
        "print(\"Average:\", average)"
      ]
    },
    {
      "cell_type": "markdown",
      "source": [
        "**Temperature Converter**"
      ],
      "metadata": {
        "id": "NhbhkZxTHvUH"
      }
    },
    {
      "cell_type": "code",
      "source": [
        "# Input from the user\n",
        "temperature = float(input(\"Enter the temperature: \"))\n",
        "unit = input(\"Enter the unit (Celsius or Fahrenheit): \").lower()\n",
        "\n",
        "# Convert temperature\n",
        "if unit == 'celsius':\n",
        "    converted_temp = (temperature * 9/5) + 32\n",
        "    converted_unit = 'Fahrenheit'\n",
        "elif unit == 'fahrenheit':\n",
        "    converted_temp = (temperature - 32) * 5/9\n",
        "    converted_unit = 'Celsius'\n",
        "else:\n",
        "    print(\"Invalid unit entered.\")\n",
        "    exit()\n",
        "\n",
        "# Display the result\n",
        "print(f\"Converted Temperature: {converted_temp} {converted_unit}\")"
      ],
      "metadata": {
        "id": "ix7AzCGOHNJf"
      },
      "execution_count": null,
      "outputs": []
    },
    {
      "cell_type": "markdown",
      "source": [
        "**User Login**"
      ],
      "metadata": {
        "id": "Q38oKPRRHzMP"
      }
    },
    {
      "cell_type": "code",
      "source": [
        "# Hardcoded username and password for simplicity\n",
        "correct_username = \"user123\"\n",
        "correct_password = \"pass123\"\n",
        "\n",
        "# Input from the user\n",
        "username = input(\"Enter your username: \")\n",
        "password = input(\"Enter your password: \")\n",
        "\n",
        "# Check login credentials\n",
        "if username == correct_username and password == correct_password:\n",
        "    print(\"Login successful.\")\n",
        "else:\n",
        "    print(\"Login failed.\")"
      ],
      "metadata": {
        "id": "Mg4iqOgkHRUn"
      },
      "execution_count": null,
      "outputs": []
    },
    {
      "cell_type": "markdown",
      "source": [
        "**Simple Calculator**"
      ],
      "metadata": {
        "id": "JF2bPaEQH6ZI"
      }
    },
    {
      "cell_type": "code",
      "source": [
        "# Input from the user\n",
        "num1 = float(input(\"Enter the first number: \"))\n",
        "num2 = float(input(\"Enter the second number: \"))\n",
        "operation = input(\"Enter the operation (+, -, *, /): \")\n",
        "\n",
        "# Perform the calculation\n",
        "result = 0\n",
        "if operation == '+':\n",
        "    result = num1 + num2\n",
        "elif operation == '-':\n",
        "    result = num1 - num2\n",
        "elif operation == '*':\n",
        "    result = num1 * num2\n",
        "elif operation == '/':\n",
        "    result = num1 / num2\n",
        "else:\n",
        "    print(\"Invalid operation entered.\")\n",
        "    exit()\n",
        "\n",
        "# Display the result\n",
        "print(f\"Result: {result}\")"
      ],
      "metadata": {
        "id": "W5ttQdxFHXun"
      },
      "execution_count": null,
      "outputs": []
    },
    {
      "cell_type": "markdown",
      "source": [
        "**Number Comparison**"
      ],
      "metadata": {
        "id": "cifXKp5hH8Sn"
      }
    },
    {
      "cell_type": "code",
      "source": [
        "# Input from the user\n",
        "num1 = float(input(\"Enter the first number: \"))\n",
        "num2 = float(input(\"Enter the second number: \"))\n",
        "\n",
        "# Compare numbers\n",
        "if num1 > num2:\n",
        "    print(f\"{num1} is greater than {num2}.\")\n",
        "elif num1 < num2:\n",
        "    print(f\"{num1} is less than {num2}.\")\n",
        "else:\n",
        "    print(f\"{num1} is equal to {num2}.\")"
      ],
      "metadata": {
        "id": "AG2M6C9iHcVm"
      },
      "execution_count": null,
      "outputs": []
    },
    {
      "cell_type": "markdown",
      "source": [
        "**Grading System**"
      ],
      "metadata": {
        "id": "o7_yphqsIA1g"
      }
    },
    {
      "cell_type": "code",
      "source": [
        "# Input from the user\n",
        "score = float(input(\"Enter your score (0-100): \"))\n",
        "\n",
        "# Determine the letter grade\n",
        "if 90 <= score <= 100:\n",
        "    grade = 'A'\n",
        "elif 80 <= score < 90:\n",
        "    grade = 'B'\n",
        "elif 70 <= score < 80:\n",
        "    grade = 'C'\n",
        "elif 60 <= score < 70:\n",
        "    grade = 'D'\n",
        "else:\n",
        "    grade = 'F'\n",
        "\n",
        "# Display the result\n",
        "print(f\"Your grade is: {grade}\")"
      ],
      "metadata": {
        "id": "KPjGUNPYHfLf"
      },
      "execution_count": null,
      "outputs": []
    },
    {
      "cell_type": "markdown",
      "source": [
        "**Age Classifier**"
      ],
      "metadata": {
        "id": "FfTKvmvYIFfH"
      }
    },
    {
      "cell_type": "code",
      "source": [
        "# Input from the user\n",
        "age = int(input(\"Enter your age: \"))\n",
        "\n",
        "# Classify age\n",
        "if age <= 1:\n",
        "    category = 'baby'\n",
        "elif 1 < age <= 12:\n",
        "    category = 'child'\n",
        "elif 12 < age <= 19:\n",
        "    category = 'teenager'\n",
        "elif 19 < age <= 65:\n",
        "    category = 'adult'\n",
        "else:\n",
        "    category = 'senior'\n",
        "\n",
        "# Display the result\n",
        "print(f\"You are classified as a {category}.\")"
      ],
      "metadata": {
        "id": "zV796hd3Hibn"
      },
      "execution_count": null,
      "outputs": []
    },
    {
      "cell_type": "markdown",
      "source": [
        "**Leap Year Checker**"
      ],
      "metadata": {
        "id": "2_TKZ87pIObw"
      }
    },
    {
      "cell_type": "code",
      "source": [
        "# Input from the user\n",
        "year = int(input(\"Enter a year: \"))\n",
        "\n",
        "# Check if it's a leap year\n",
        "if (year % 4 == 0 and year % 100 != 0) or (year % 400 == 0):\n",
        "    print(f\"{year} is a leap year.\")\n",
        "else:\n",
        "    print(f\"{year} is not a leap year.\")"
      ],
      "metadata": {
        "id": "4ID_g4dkHlLX"
      },
      "execution_count": null,
      "outputs": []
    },
    {
      "cell_type": "markdown",
      "source": [
        "**Palindrome Checker**"
      ],
      "metadata": {
        "id": "RjSH2dBpIQXO"
      }
    },
    {
      "cell_type": "code",
      "source": [
        "# Input from the user\n",
        "word = input(\"Enter a word or phrase: \").lower()\n",
        "\n",
        "# Check if it's a palindrome\n",
        "if word == word[::-1]:\n",
        "    print(\"It's a palindrome!\")\n",
        "else:\n",
        "    print(\"It's not a palindrome.\")"
      ],
      "metadata": {
        "id": "Gzt0dCgAHnTX"
      },
      "execution_count": null,
      "outputs": []
    },
    {
      "cell_type": "markdown",
      "source": [
        "**String Reversal**"
      ],
      "metadata": {
        "id": "jrKYZHTfITrO"
      }
    },
    {
      "cell_type": "code",
      "source": [
        "# Input from the user\n",
        "string_input = input(\"Enter a string: \")\n",
        "\n",
        "# Reverse the string\n",
        "reversed_string = string_input[::-1]\n",
        "\n",
        "# Display the result\n",
        "print(f\"Reversed string: {reversed_string}\")"
      ],
      "metadata": {
        "id": "ToU-eKaqHpYa"
      },
      "execution_count": null,
      "outputs": []
    }
  ]
}