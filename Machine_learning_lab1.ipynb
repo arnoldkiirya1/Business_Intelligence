{
  "nbformat": 4,
  "nbformat_minor": 0,
  "metadata": {
    "colab": {
      "provenance": [],
      "include_colab_link": true
    },
    "kernelspec": {
      "name": "python3",
      "display_name": "Python 3"
    },
    "language_info": {
      "name": "python"
    }
  },
  "cells": [
    {
      "cell_type": "markdown",
      "metadata": {
        "id": "view-in-github",
        "colab_type": "text"
      },
      "source": [
        "<a href=\"https://colab.research.google.com/github/arnoldkiirya1/Business_Intelligence/blob/main/Machine_learning_lab1.ipynb\" target=\"_parent\"><img src=\"https://colab.research.google.com/assets/colab-badge.svg\" alt=\"Open In Colab\"/></a>"
      ]
    },
    {
      "cell_type": "code",
      "source": [
        "\n",
        "#Import TensorFlow\n",
        "import tensorflow as tf\n",
        "print(\"Tensorflow version: \", tf.__version__)"
      ],
      "metadata": {
        "colab": {
          "base_uri": "https://localhost:8080/"
        },
        "id": "FKHzryP7HJCC",
        "outputId": "f339635f-6e7d-4400-ff92-cd51e01511f3"
      },
      "execution_count": null,
      "outputs": [
        {
          "output_type": "stream",
          "name": "stdout",
          "text": [
            "Tensorflow version:  2.11.0\n"
          ]
        }
      ]
    },
    {
      "cell_type": "code",
      "source": [
        "#Load Dataset\n",
        "mnist = tf.keras.datasets.mnist\n",
        "\n",
        "(x_train, y_train), (x_test, y_test) = mnist.load_data()\n",
        "x_train, x_test = x_train / 255.0, x_test / 255.0"
      ],
      "metadata": {
        "id": "QxqELn6_IcH1"
      },
      "execution_count": 8,
      "outputs": []
    },
    {
      "cell_type": "code",
      "source": [
        "# Build a machine learning model\n",
        "model = tf.keras.models.Sequential([\n",
        "    tf.keras.layers.Flatten(input_shape=(28, 28)),\n",
        "    tf.keras.layers.Dense(128, activation=\"relu\"),\n",
        "    tf.keras.layers.Dropout(0.2),\n",
        "    tf.keras.layers.Dense(10)\n",
        "])"
      ],
      "metadata": {
        "id": "6MdpgNbHMXP6"
      },
      "execution_count": 9,
      "outputs": []
    },
    {
      "cell_type": "code",
      "source": [
        "#Predictions\n",
        "predictions = model(x_train[:1]).numpy()\n",
        "predictions"
      ],
      "metadata": {
        "colab": {
          "base_uri": "https://localhost:8080/"
        },
        "id": "h6quFG9GP4vg",
        "outputId": "221457c5-ba2f-42e7-a5c5-065651cd7ac3"
      },
      "execution_count": 10,
      "outputs": [
        {
          "output_type": "execute_result",
          "data": {
            "text/plain": [
              "array([[-0.4144652 ,  0.1633454 ,  0.18981847,  0.1575932 , -0.09368166,\n",
              "         0.53737193, -0.42139733,  0.26501954,  0.28930932,  0.03031091]],\n",
              "      dtype=float32)"
            ]
          },
          "metadata": {},
          "execution_count": 10
        }
      ]
    },
    {
      "cell_type": "code",
      "source": [
        "#Deploying Softmax\n",
        "tf.nn.softmax(predictions).numpy()"
      ],
      "metadata": {
        "colab": {
          "base_uri": "https://localhost:8080/"
        },
        "id": "XMHbtSYhSs6v",
        "outputId": "ca6a9ef5-8eac-40ed-c113-60fa966a653f"
      },
      "execution_count": null,
      "outputs": [
        {
          "output_type": "execute_result",
          "data": {
            "text/plain": [
              "array([[0.06979968, 0.07936072, 0.12128997, 0.05623374, 0.11655635,\n",
              "        0.09050449, 0.19135594, 0.0811682 , 0.07008894, 0.12364198]],\n",
              "      dtype=float32)"
            ]
          },
          "metadata": {},
          "execution_count": 5
        }
      ]
    },
    {
      "cell_type": "code",
      "source": [
        "#Loss Function for training\n",
        "loss_fn = tf.keras.losses.SparseCategoricalCrossentropy(from_logits= True)"
      ],
      "metadata": {
        "id": "Gssqd_bZSsvh"
      },
      "execution_count": 14,
      "outputs": []
    },
    {
      "cell_type": "code",
      "source": [
        "loss_fn(y_train[:1], predictions).numpy()"
      ],
      "metadata": {
        "colab": {
          "base_uri": "https://localhost:8080/"
        },
        "id": "PohaVaEeYHsl",
        "outputId": "a9b54d9b-3f47-40ed-887d-ac6431844c17"
      },
      "execution_count": 15,
      "outputs": [
        {
          "output_type": "execute_result",
          "data": {
            "text/plain": [
              "1.8754835"
            ]
          },
          "metadata": {},
          "execution_count": 15
        }
      ]
    },
    {
      "cell_type": "code",
      "source": [
        "# Configure and Compile the model before training the model\n",
        "model.compile(optimizer='adam', loss=loss_fn, metrics=['accuracy'])"
      ],
      "metadata": {
        "id": "AMFW29tfaFh2"
      },
      "execution_count": 16,
      "outputs": []
    },
    {
      "cell_type": "code",
      "source": [
        "#Train and evaluate the model\n",
        "model.fit(x_train, y_train, epochs=5) # epoch is the number of iteartions"
      ],
      "metadata": {
        "colab": {
          "base_uri": "https://localhost:8080/"
        },
        "id": "QjdBxiAMbHeo",
        "outputId": "34cd8e03-a3b6-4ed7-bcbc-58846de17b59"
      },
      "execution_count": 17,
      "outputs": [
        {
          "output_type": "stream",
          "name": "stdout",
          "text": [
            "Epoch 1/5\n",
            "1875/1875 [==============================] - 8s 4ms/step - loss: 0.2980 - accuracy: 0.9133\n",
            "Epoch 2/5\n",
            "1875/1875 [==============================] - 6s 3ms/step - loss: 0.1432 - accuracy: 0.9577\n",
            "Epoch 3/5\n",
            "1875/1875 [==============================] - 8s 4ms/step - loss: 0.1081 - accuracy: 0.9669\n",
            "Epoch 4/5\n",
            "1875/1875 [==============================] - 7s 4ms/step - loss: 0.0889 - accuracy: 0.9730\n",
            "Epoch 5/5\n",
            "1875/1875 [==============================] - 7s 4ms/step - loss: 0.0753 - accuracy: 0.9758\n"
          ]
        },
        {
          "output_type": "execute_result",
          "data": {
            "text/plain": [
              "<keras.callbacks.History at 0x7f23aed50c70>"
            ]
          },
          "metadata": {},
          "execution_count": 17
        }
      ]
    },
    {
      "cell_type": "code",
      "source": [
        "# Evaluate your model, check if the model is over fit or good fit or under fit\n",
        "model.evaluate(x_test, y_test, verbose=2)"
      ],
      "metadata": {
        "colab": {
          "base_uri": "https://localhost:8080/"
        },
        "id": "gvtfSBqhcCbP",
        "outputId": "b0c0da23-6f08-439a-c3f1-030227ab7b92"
      },
      "execution_count": 18,
      "outputs": [
        {
          "output_type": "stream",
          "name": "stdout",
          "text": [
            "313/313 - 1s - loss: 0.0760 - accuracy: 0.9763 - 525ms/epoch - 2ms/step\n"
          ]
        },
        {
          "output_type": "execute_result",
          "data": {
            "text/plain": [
              "[0.07601597905158997, 0.9763000011444092]"
            ]
          },
          "metadata": {},
          "execution_count": 18
        }
      ]
    },
    {
      "cell_type": "code",
      "source": [
        "# Image Classifier\n",
        "probability_model = tf.keras.Sequential([model,tf.keras.layers.Softmax()])"
      ],
      "metadata": {
        "id": "RZBUdKcKfpdr"
      },
      "execution_count": 20,
      "outputs": []
    },
    {
      "cell_type": "code",
      "source": [
        "probability_model(x_train[:5])"
      ],
      "metadata": {
        "colab": {
          "base_uri": "https://localhost:8080/"
        },
        "id": "D7cPXsKqgVA9",
        "outputId": "51173753-f853-40d5-f6d0-82fd2602e828"
      },
      "execution_count": 21,
      "outputs": [
        {
          "output_type": "execute_result",
          "data": {
            "text/plain": [
              "<tf.Tensor: shape=(5, 10), dtype=float32, numpy=\n",
              "array([[1.34502018e-08, 6.77809624e-07, 8.78808635e-07, 4.32658270e-02,\n",
              "        2.44488993e-16, 9.56732213e-01, 1.54743839e-12, 1.13212764e-07,\n",
              "        6.94832236e-09, 1.93952857e-07],\n",
              "       [9.99997139e-01, 2.09259259e-12, 2.90023172e-06, 9.87577353e-10,\n",
              "        4.83738144e-14, 1.72052257e-08, 1.07565938e-08, 3.05923886e-09,\n",
              "        3.27802603e-08, 2.02514929e-08],\n",
              "       [3.65899755e-09, 8.05990931e-05, 2.97236955e-04, 2.21960363e-05,\n",
              "        9.98862267e-01, 3.81153450e-06, 1.89202950e-07, 2.50276906e-04,\n",
              "        1.50295637e-05, 4.68385726e-04],\n",
              "       [1.53921320e-08, 9.99943852e-01, 3.92628954e-06, 4.02738323e-08,\n",
              "        1.07841075e-07, 7.28134486e-09, 7.86522563e-08, 4.58810282e-05,\n",
              "        6.12421218e-06, 1.79314885e-09],\n",
              "       [2.57315702e-09, 3.78067142e-08, 7.22112077e-07, 8.65159291e-06,\n",
              "        4.20765282e-04, 1.98324187e-07, 6.90328003e-11, 4.05614810e-05,\n",
              "        9.61825499e-05, 9.99432862e-01]], dtype=float32)>"
            ]
          },
          "metadata": {},
          "execution_count": 21
        }
      ]
    }
  ]
}