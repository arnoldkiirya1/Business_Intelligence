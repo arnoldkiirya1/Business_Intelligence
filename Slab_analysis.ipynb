{
  "nbformat": 4,
  "nbformat_minor": 0,
  "metadata": {
    "colab": {
      "provenance": [],
      "authorship_tag": "ABX9TyMnoDdEiu/T8n+jRGeEU0hM",
      "include_colab_link": true
    },
    "kernelspec": {
      "name": "python3",
      "display_name": "Python 3"
    },
    "language_info": {
      "name": "python"
    }
  },
  "cells": [
    {
      "cell_type": "markdown",
      "metadata": {
        "id": "view-in-github",
        "colab_type": "text"
      },
      "source": [
        "<a href=\"https://colab.research.google.com/github/arnoldkiirya1/Business_Intelligence/blob/main/Slab_analysis.ipynb\" target=\"_parent\"><img src=\"https://colab.research.google.com/assets/colab-badge.svg\" alt=\"Open In Colab\"/></a>"
      ]
    },
    {
      "cell_type": "code",
      "execution_count": null,
      "metadata": {
        "id": "hP6XuvU0VWRS"
      },
      "outputs": [],
      "source": [
        "from dolfin import *\n",
        "\n",
        "# Define geometry and mesh\n",
        "length = 10.0\n",
        "width = 5.0\n",
        "depth = 0.2\n",
        "nx = 20\n",
        "ny = 10\n",
        "nz = 1\n",
        "mesh = BoxMesh(Point(0, 0, 0), Point(length, width, depth), nx, ny, nz)\n",
        "\n",
        "# Define material properties\n",
        "E = 30e9 # Young's modulus (Pa)\n",
        "nu = 0.2 # Poisson's ratio\n",
        "rho = 2400 # density (kg/m^3)\n",
        "\n",
        "# Define boundary conditions\n",
        "tol = 1E-14\n",
        "def boundary(x, on_boundary):\n",
        "    return on_boundary and abs(x[2] - depth) < tol\n",
        "bc = DirichletBC(VectorFunctionSpace(mesh, 'P', 1), Constant((0, 0, 0)), boundary)\n",
        "\n",
        "# Define PDE\n",
        "V = VectorFunctionSpace(mesh, 'P', 1)\n",
        "u = TrialFunction(V)\n",
        "v = TestFunction(V)\n",
        "f = Constant((0, 0, -9.81*rho)) # body force\n",
        "T = Constant((0, 0, 0)) # traction force\n",
        "a = (1.0/E)*inner(grad(u), grad(v))*dx\n",
        "L = dot(f, v)*dx + dot(T, v)*ds\n",
        "\n",
        "# Solve system of equations\n",
        "u = Function(V)\n",
        "solve(a == L, u, bc)\n",
        "\n",
        "# Post-process results\n",
        "Vsig = TensorFunctionSpace(mesh, 'DG', 0)\n",
        "sigma = project(sigma(u), Vsig)\n",
        "plot(sigma)\n"
      ]
    }
  ]
}