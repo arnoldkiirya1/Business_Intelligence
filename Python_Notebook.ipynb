{
  "nbformat": 4,
  "nbformat_minor": 0,
  "metadata": {
    "colab": {
      "provenance": [],
      "authorship_tag": "ABX9TyMknyNIeeowTeZ571NI2K4F",
      "include_colab_link": true
    },
    "kernelspec": {
      "name": "python3",
      "display_name": "Python 3"
    },
    "language_info": {
      "name": "python"
    }
  },
  "cells": [
    {
      "cell_type": "markdown",
      "metadata": {
        "id": "view-in-github",
        "colab_type": "text"
      },
      "source": [
        "<a href=\"https://colab.research.google.com/github/arnoldkiirya1/Business_Intelligence/blob/main/Python_Notebook.ipynb\" target=\"_parent\"><img src=\"https://colab.research.google.com/assets/colab-badge.svg\" alt=\"Open In Colab\"/></a>"
      ]
    },
    {
      "cell_type": "code",
      "execution_count": 3,
      "metadata": {
        "colab": {
          "base_uri": "https://localhost:8080/"
        },
        "id": "894Tap2OZokt",
        "outputId": "49a77e0e-ac4f-459e-e842-450178122a2d"
      },
      "outputs": [
        {
          "output_type": "stream",
          "name": "stdout",
          "text": [
            "My name is Arnold\n"
          ]
        }
      ],
      "source": [
        "print(\"My name is Arnold\")"
      ]
    },
    {
      "cell_type": "code",
      "source": [
        "2 + 4"
      ],
      "metadata": {
        "id": "uQ084cwqc7av",
        "outputId": "3ceab215-e6a5-479f-b378-c963cf4a7090",
        "colab": {
          "base_uri": "https://localhost:8080/"
        }
      },
      "execution_count": 4,
      "outputs": [
        {
          "output_type": "execute_result",
          "data": {
            "text/plain": [
              "6"
            ]
          },
          "metadata": {},
          "execution_count": 4
        }
      ]
    },
    {
      "cell_type": "code",
      "source": [
        "3 < 15"
      ],
      "metadata": {
        "id": "s9FeSFJQefWa",
        "outputId": "d7a5ac00-7273-4161-8855-920cf49ea9c5",
        "colab": {
          "base_uri": "https://localhost:8080/"
        }
      },
      "execution_count": 5,
      "outputs": [
        {
          "output_type": "execute_result",
          "data": {
            "text/plain": [
              "True"
            ]
          },
          "metadata": {},
          "execution_count": 5
        }
      ]
    },
    {
      "cell_type": "code",
      "source": [
        "from math import *\n",
        "sqrt(4)"
      ],
      "metadata": {
        "id": "tFAbrScRhWrl",
        "outputId": "45af0eaa-7d13-4b59-84e8-f1322585c924",
        "colab": {
          "base_uri": "https://localhost:8080/"
        }
      },
      "execution_count": 8,
      "outputs": [
        {
          "output_type": "execute_result",
          "data": {
            "text/plain": [
              "2.0"
            ]
          },
          "metadata": {},
          "execution_count": 8
        }
      ]
    },
    {
      "cell_type": "code",
      "source": [
        "x = 3\n",
        "float(x)"
      ],
      "metadata": {
        "id": "3lIShU8liY0T",
        "outputId": "37f970c8-023f-4ced-866f-6a83b0bf5cc4",
        "colab": {
          "base_uri": "https://localhost:8080/"
        }
      },
      "execution_count": 13,
      "outputs": [
        {
          "output_type": "execute_result",
          "data": {
            "text/plain": [
              "3.0"
            ]
          },
          "metadata": {},
          "execution_count": 13
        }
      ]
    },
    {
      "cell_type": "code",
      "source": [
        "from math import *\n",
        "x =2\n",
        "y = 3\n",
        "z = 2*x + 4*y\n",
        "print(z)"
      ],
      "metadata": {
        "id": "pFJ8mzDLk7Zs",
        "outputId": "6263d1b6-486c-4232-b437-f4ce600f7449",
        "colab": {
          "base_uri": "https://localhost:8080/"
        }
      },
      "execution_count": 15,
      "outputs": [
        {
          "output_type": "stream",
          "name": "stdout",
          "text": [
            "16\n"
          ]
        }
      ]
    },
    {
      "cell_type": "code",
      "source": [
        "x = 7\n",
        "x"
      ],
      "metadata": {
        "id": "vQaNLqB1mT0k",
        "outputId": "297d9451-2d0e-4e62-919c-9824d236b92d",
        "colab": {
          "base_uri": "https://localhost:8080/"
        }
      },
      "execution_count": 16,
      "outputs": [
        {
          "output_type": "execute_result",
          "data": {
            "text/plain": [
              "7"
            ]
          },
          "metadata": {},
          "execution_count": 16
        }
      ]
    },
    {
      "cell_type": "code",
      "source": [
        "age = 24\n",
        "print(\"Your age is\", age)"
      ],
      "metadata": {
        "id": "x0gN9rn3nI1e",
        "outputId": "4be6984d-612b-47c7-a269-6be2350fcd47",
        "colab": {
          "base_uri": "https://localhost:8080/"
        }
      },
      "execution_count": 19,
      "outputs": [
        {
          "output_type": "stream",
          "name": "stdout",
          "text": [
            "Your age is 24\n"
          ]
        }
      ]
    },
    {
      "cell_type": "code",
      "source": [
        "age = 45\n",
        "print(\"You have\", 65 - age, \"years until retirement\")"
      ],
      "metadata": {
        "id": "IZmkzm-tn8g0",
        "outputId": "d527cc6d-1106-4a8c-f89d-3b0f49626d3e",
        "colab": {
          "base_uri": "https://localhost:8080/"
        }
      },
      "execution_count": 21,
      "outputs": [
        {
          "output_type": "stream",
          "name": "stdout",
          "text": [
            "You have 20 years until retirement\n"
          ]
        }
      ]
    },
    {
      "cell_type": "code",
      "source": [],
      "metadata": {
        "id": "gytnsXfPn8Zc"
      },
      "execution_count": null,
      "outputs": []
    }
  ]
}